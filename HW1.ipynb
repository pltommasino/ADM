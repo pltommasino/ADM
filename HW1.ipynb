{
 "cells": [
  {
   "cell_type": "markdown",
   "metadata": {
    "editable": true,
    "id": "WzajGhK3ZxPT",
    "slideshow": {
     "slide_type": ""
    },
    "tags": [
     "parameters"
    ]
   },
   "source": [
    "# **Algorithmic Methods of Data Mining - Homework 1**\n",
    "\n",
    "## **#Problem 1. Skills on Python.**"
   ]
  },
  {
   "cell_type": "markdown",
   "metadata": {
    "id": "x2K7arzbdXst"
   },
   "source": [
    "### **1. Introduction *(all – total: 7 - max points: 75)***"
   ]
  },
  {
   "cell_type": "markdown",
   "metadata": {
    "id": "wvSsgW5ovZ35"
   },
   "source": [
    "##### 1.1.1: *Say \"Hello, World!\" With Python*"
   ]
  },
  {
   "cell_type": "code",
   "execution_count": null,
   "metadata": {
    "colab": {
     "base_uri": "https://localhost:8080/"
    },
    "id": "0MKOFXJxsRmR",
    "outputId": "23b60c51-c1d4-4f40-a464-8cbe22991e0c"
   },
   "outputs": [],
   "source": [
    "#Put the string in variable 'my_string'\n",
    "my_string = \"Hello, World!\"\n",
    "\n",
    "#Print variable that contain string\n",
    "print(my_string)"
   ]
  },
  {
   "cell_type": "markdown",
   "metadata": {},
   "source": [
    "##### 1.1.2: *Python If-Else*"
   ]
  },
  {
   "cell_type": "code",
   "execution_count": 3,
   "metadata": {},
   "outputs": [],
   "source": [
    "import math\n",
    "\n",
    "# The 'n' variable require an integer number\n",
    "n = int(input())\n",
    "\n",
    "#If this number is bigger than 0 and smaller than 101, then the 'if' cycle begin\n",
    "if (n > 0 and n < 101):\n",
    "\n",
    "    #If the rest of division is 1, it print the word \"Weird\"\n",
    "    if (n % 2) == 1:\n",
    "        print(\"Weird\")\n",
    "    #If the rest of division is 0...\n",
    "    else:\n",
    "        \n",
    "        #... but 'n' is smaller than 6, it print the word \"Not Weird\"\n",
    "        if (n < 6):\n",
    "            print(\"Not Weird\")\n",
    "        #... but 'n' is bigger than 5 and smaller than 21, it print the word \"Weird\"\n",
    "        elif (n > 5 and n < 21):\n",
    "            print(\"Weird\")\n",
    "        #... else (for other cases) it print \"Not Weird\"\n",
    "        else:\n",
    "            print(\"Not Weird\")"
   ]
  },
  {
   "cell_type": "markdown",
   "metadata": {},
   "source": [
    "##### 1.1.3: *Arithmetic Operators*"
   ]
  },
  {
   "cell_type": "code",
   "execution_count": null,
   "metadata": {},
   "outputs": [],
   "source": [
    "# The 'a' variable require an integer number\n",
    "a = int(input())\n",
    "\n",
    "#If this number is bigger than 0 and smaller than 10**10, then the 'if' cycle begin\n",
    "if a > 0 and a <= 10**10:\n",
    "    # The 'b' variable require an integer number\n",
    "    b = int(input())\n",
    "\n",
    "    #If 'b' is bigger than 0 and smaller than 10**10, then the 'if' cycle begin\n",
    "    if b > 0 and b <= 10**10:\n",
    "        #Print the sum of 'a' and 'b'\n",
    "        print(a+b)\n",
    "        #Print the difference of 'a' and 'b'\n",
    "        print(a-b)\n",
    "        #Print the multiplication of 'a' and 'b'\n",
    "        print(a*b)\n",
    "\n",
    "    #If 'b' is smaller than 0 and bigger than 10**10, it print the string\n",
    "    else:\n",
    "        print(\"Numero 'b' troppo piccolo/grande. Riprova.\")\n",
    "        \n",
    "#If 'a' is smaller than 0 and bigger than 10**10, it print the string\n",
    "else:\n",
    "    print(\"Numero 'a' troppo piccolo/grande. Riprova.\")"
   ]
  },
  {
   "cell_type": "markdown",
   "metadata": {},
   "source": [
    "##### 1.1.4: *Division*"
   ]
  },
  {
   "cell_type": "code",
   "execution_count": null,
   "metadata": {},
   "outputs": [],
   "source": [
    "# The 'a' variable require an integer number\n",
    "a = int(input())\n",
    "# The 'b' variable require an integer number\n",
    "b = int(input())\n",
    "\n",
    "# Print the floor division between 'a' and 'b'\n",
    "print(a//b)\n",
    "# Print the division between 'a' and 'b'\n",
    "print(a/b)"
   ]
  },
  {
   "cell_type": "markdown",
   "metadata": {},
   "source": [
    "##### 1.1.5: *Loops*"
   ]
  },
  {
   "cell_type": "code",
   "execution_count": null,
   "metadata": {},
   "outputs": [],
   "source": [
    "# The 'n' variable require an integer number\n",
    "n = int(input())\n",
    "\n",
    "#For every interaction in range (from 0 to 'n') it print a line, corresponding to each 'i'\n",
    "for i in range(n):\n",
    "    print(i*i)\n",
    "    i += i"
   ]
  },
  {
   "cell_type": "markdown",
   "metadata": {},
   "source": [
    "##### 1.1.6: *Write a function*"
   ]
  },
  {
   "cell_type": "code",
   "execution_count": null,
   "metadata": {},
   "outputs": [],
   "source": [
    "#Define 'is_leap()' as a function and 'year' as a variable in function \n",
    "def is_leap(year):\n",
    "    #At the first, define 'leap' variable as False\n",
    "    leap = False\n",
    "    \n",
    "    #If the rest of this division is 0...\n",
    "    if (year % 100) == 0:\n",
    "        #... and the rest of this is 0, then it consider leap = True\n",
    "        if (year % 400) == 0:\n",
    "            leap = True\n",
    "        #...else it consider leap = False\n",
    "        else:\n",
    "            leap = False\n",
    "    #Else if the division (between 'year' and '4') is 0, leap is True\n",
    "    elif (year % 4) == 0:\n",
    "        leap = True\n",
    "    #...else, leap is False\n",
    "    else:\n",
    "        leap = False\n",
    "    #In a function is very important return a value, in this case 'leap'\n",
    "    return leap"
   ]
  },
  {
   "cell_type": "markdown",
   "metadata": {},
   "source": [
    "##### 1.1.7: *Print Function*"
   ]
  },
  {
   "cell_type": "code",
   "execution_count": null,
   "metadata": {},
   "outputs": [],
   "source": [
    "# The 'n' variable require an integer number\n",
    "n = int(input())\n",
    "\n",
    "#If this number is bigger or equal than 0 and smaller or equal than 150, then the 'if' cycle begin\n",
    "if (n >= 1 and n <= 150):\n",
    "    \n",
    "    #For every interaction in range (from 1 to 'n+1') it print 'i' (in add, from second interaction, at other number)\n",
    "    for i in range(1, n+1):\n",
    "        print(i, end=\"\")\n",
    "        i += i\n",
    "#Else... exit from 'if' cycle\n",
    "else:\n",
    "    exit"
   ]
  },
  {
   "cell_type": "markdown",
   "metadata": {},
   "source": [
    "### **2. Data types *(all – total: 6 - max points: 60)***"
   ]
  },
  {
   "cell_type": "markdown",
   "metadata": {},
   "source": [
    "##### 1.2.1: *List Comprehensions*"
   ]
  },
  {
   "cell_type": "code",
   "execution_count": null,
   "metadata": {},
   "outputs": [],
   "source": [
    "# The 'x','y','z' and 'n' variables require an integer number\n",
    "x = int(input())\n",
    "y = int(input())\n",
    "z = int(input())\n",
    "n = int(input())\n",
    "# The 'arr' variable is an empty array (to present it after)\n",
    "arr = []\n",
    "\n",
    "#For every interaction in range (from 0 to 'x+1')...\n",
    "for i in range(x+1):\n",
    "\n",
    "    #... and for every interaction in range (from 0 to 'y+1')...\n",
    "    for j in range(y+1):\n",
    "\n",
    "        #... and for every interaction in range (from 0 to 'z+1')...\n",
    "        for k in range(z+1):\n",
    "            \n",
    "            #... and if the sum of variables is not 'n', it append in array 'arr' the array [i,j,k]\n",
    "            if i+j+k != n:\n",
    "                arr.append([i,j,k])\n",
    "            #Else... exit from 'if' cycle\n",
    "            else:\n",
    "                exit\n",
    "                \n",
    "#Print the final 'arr'\n",
    "print(arr)"
   ]
  },
  {
   "cell_type": "markdown",
   "metadata": {},
   "source": [
    "##### 1.2.2: *Find the Runner-Up Score!*"
   ]
  },
  {
   "cell_type": "code",
   "execution_count": null,
   "metadata": {},
   "outputs": [],
   "source": [
    "# The 'n' variable require an integer number\n",
    "n = int(input())\n",
    "\n",
    "#If this number is bigger or equal than 2 and smaller or equal than 10, 'if' cycle begin\n",
    "if n >= 2 and n <= 10:\n",
    "    # The 'arr' require a list of integer\n",
    "    arr = list(map(int, input().split()))\n",
    "    # 'a' contain the max value in the 'arr'\n",
    "    a = max(arr)\n",
    "\n",
    "    #For every interaction in range (from 0 to lenght of 'arr') it store the max in 'arr' in 'b' variable...\n",
    "    for i in range(len(arr)):\n",
    "        b = max(arr)\n",
    "\n",
    "        #... if 'a' is equal to 'b', remove in 'arr' the value 'b'\n",
    "        if a == b:\n",
    "            arr.remove(b)\n",
    "        #... else exit by every cycle\n",
    "        else:\n",
    "            exit\n",
    "    #After each 'for' cycle, print 'max' value in 'arr'\n",
    "    print(max(arr))\n",
    "\n",
    "#If 'n' number is not in condition of previous 'if', it exit from cycle\n",
    "else:\n",
    "    exit"
   ]
  },
  {
   "cell_type": "markdown",
   "metadata": {},
   "source": [
    "##### 1.2.3: *Nested Lists* "
   ]
  },
  {
   "cell_type": "code",
   "execution_count": null,
   "metadata": {},
   "outputs": [],
   "source": [
    "# The 'arr' and 'result' variables store empty lists\n",
    "arr = []\n",
    "result=[]\n",
    "\n",
    "#For each interaction in range (from 0 to an integer input) require a string input (store in 'name'), a float input (store in 'score')...\n",
    "for i in range(int(input())):\n",
    "    name = input()\n",
    "    score = float(input())\n",
    "    #... and append these variables in a list in 'arr' (nested list)\n",
    "    arr.append([name, score])\n",
    "\n",
    "# At the end of the 'for' loop, the 'arr' list is sorted by the second element (scores).\n",
    "arr.sort(reverse=False, key=lambda arr: arr[1])\n",
    "a = arr[0]\n",
    "arr.pop(0)\n",
    "\n",
    "# While the minimum score in 'arr' is the same as the score of 'a', pop the first element in 'arr'\n",
    "while min(arr, key=lambda arr: arr[1])[1] == a[1]:\n",
    "    arr.pop(0)\n",
    "b = arr[0]\n",
    "c = b[1]\n",
    "\n",
    "# While the score 'c' is the same as the score of 'b'...\n",
    "while c == b[1]:\n",
    "    result.append(b)\n",
    "    arr.pop(0)\n",
    "    if len(arr) != 0:\n",
    "        b = min(arr, key=lambda arr: arr[1])\n",
    "    else:\n",
    "        break\n",
    "\n",
    "# Sort the 'result' list by name\n",
    "result.sort(reverse=False, key=lambda arr: arr[0])\n",
    "\n",
    "# Print the names from the 'result' list\n",
    "for j in range(len(result)):\n",
    "    print(result[j][0])"
   ]
  },
  {
   "cell_type": "markdown",
   "metadata": {},
   "source": [
    "##### 1.2.4: *Finding the percentage*"
   ]
  },
  {
   "cell_type": "code",
   "execution_count": null,
   "metadata": {},
   "outputs": [],
   "source": [
    "from statistics import mean\n",
    "\n",
    "# The 'n' variable require an integer number\n",
    "n = int(input())\n",
    "# Create an empty dictionary 'student_marks' to store student names and their scores\n",
    "student_marks = {}\n",
    "\n",
    "# For each student (for 'n' iterations)...\n",
    "for i in range(n):\n",
    "    # Prompt the user for a student's name and a list of scores separated by space, then split the input\n",
    "    name, *line = input().split()\n",
    "    # Convert the list of scores into a list of floating-point numbers\n",
    "    scores = list(map(float, line))\n",
    "    # Store the student's name as the key and their scores as the value in the 'student_marks' dictionary\n",
    "    student_marks[name] = scores\n",
    "\n",
    "# Prompt the user for the name of the student whose average score is to be calculated\n",
    "query_name = input()\n",
    "# Retrieve the scores for the student specified by 'query_name' from the 'student_marks' dictionary\n",
    "vot = student_marks[query_name]\n",
    "# Calculate the mean (average) of the scores\n",
    "media = mean(vot)\n",
    "\n",
    "# Format the mean as a string with two decimal places\n",
    "media1 = \"{:.2f}\".format(media)\n",
    "print(media1)"
   ]
  },
  {
   "cell_type": "markdown",
   "metadata": {},
   "source": [
    "##### 1.2.5: *Lists*"
   ]
  },
  {
   "cell_type": "code",
   "execution_count": null,
   "metadata": {},
   "outputs": [],
   "source": [
    "# The 'N' variable require an integer number\n",
    "N = int(input())\n",
    "# Create an empty list 'arr' to store integers\n",
    "arr = []\n",
    "\n",
    "# For each of the 'N' iterations...\n",
    "for i in range(N):\n",
    "    #... it require 'word' in input, namely the command (in some of them, is also specified the position and the element)\n",
    "    word = input().split()\n",
    "\n",
    "    # If the first word is 'insert', insert an integer into 'arr' at the specified index (the second 'word'), the specified number (third 'word')\n",
    "    if word[0] == 'insert':\n",
    "        arr.insert(int(word[1]), int(word[2]))\n",
    "    # If the first word is 'print', print the current state of 'arr'\n",
    "    if word[0] == 'print':\n",
    "        print(arr)\n",
    "    # If the first word is 'remove', remove the specified integer from 'arr'    \n",
    "    if word[0] == 'remove':\n",
    "        arr.remove(int(word[1]))\n",
    "    # If the first word is 'append', append the specified integer to 'arr'    \n",
    "    if word[0] == 'append':\n",
    "        arr.append(int(word[1]))\n",
    "    # If the first word is 'sort', sort 'arr' in ascending order\n",
    "    if word[0] == 'sort':\n",
    "        arr.sort()\n",
    "    # If the first word is 'pop', remove and return the last element from 'arr'\n",
    "    if word[0] == 'pop':\n",
    "        arr.pop()\n",
    "    # If the first word is 'reverse', reverse the elements in 'arr'\n",
    "    if word[0] == 'reverse':\n",
    "        arr.reverse()"
   ]
  },
  {
   "cell_type": "markdown",
   "metadata": {},
   "source": [
    "##### 1.2.6: *Tuples*"
   ]
  },
  {
   "cell_type": "code",
   "execution_count": null,
   "metadata": {},
   "outputs": [],
   "source": [
    "\n",
    "n = int(input())\n",
    "\n",
    "# Prompt the user for a space-separated list of integers, convert it to a tuple, and store it in 'integer_list'\n",
    "integer_list = tuple(map(int, input().split()))\n",
    "\n",
    "# Calculate the hash value of 'integer_list' and print it\n",
    "print(hash(integer_list))"
   ]
  },
  {
   "cell_type": "markdown",
   "metadata": {},
   "source": [
    "### **3. Strings *(all – total: 14 - max points: 220)***"
   ]
  },
  {
   "cell_type": "markdown",
   "metadata": {},
   "source": [
    "##### 1.3.1: *sWAP cASE*"
   ]
  },
  {
   "cell_type": "code",
   "execution_count": null,
   "metadata": {},
   "outputs": [],
   "source": [
    "def swap_case(s):\n",
    "    # Initialize an empty string 'new' to store the result    \n",
    "    new = ''\n",
    "\n",
    "    # For each character 'i' in the input string 's'...\n",
    "    for i in s:\n",
    "        # If 'i' is a lowercase letter, convert it to uppercase and append it to 'new'\n",
    "        if i.islower() == True:\n",
    "            new = new + i.upper()\n",
    "        # If 'i' is not a lowercase letter (so it's uppercase or something else), convert it to lowercase and append it to 'new'\n",
    "        if i.islower() == False:\n",
    "            new = new + i.lower()\n",
    "    # Return the 'new' string with swapped uppercase and lowercase letters\n",
    "    return new\n",
    "\n",
    "# --- Given and locked by HackerRank\n",
    "if __name__ == '__main__':\n",
    "    s = input()\n",
    "    result = swap_case(s)\n",
    "    print(result)"
   ]
  },
  {
   "cell_type": "markdown",
   "metadata": {},
   "source": [
    "##### 1.3.2: *String Split and Join*"
   ]
  },
  {
   "cell_type": "code",
   "execution_count": null,
   "metadata": {},
   "outputs": [],
   "source": [
    "def split_and_join(line):\n",
    "    # Split the input 'line' into a list of words, using a space as the delimiter\n",
    "    a = line.split(\" \")\n",
    "    # Join the list of words with hyphens to create a new string\n",
    "    line = \"-\".join(a)\n",
    "    return line\n",
    "\n",
    "# --- Given and locked by HackerRank\n",
    "line = input()\n",
    "result = split_and_join(line)\n",
    "print(result)"
   ]
  },
  {
   "cell_type": "markdown",
   "metadata": {},
   "source": [
    "##### 1.3.3: *What's Your Name?*"
   ]
  },
  {
   "cell_type": "code",
   "execution_count": null,
   "metadata": {},
   "outputs": [],
   "source": [
    "def print_full_name(first, last):\n",
    "    #A way of print the input in standard sentence\n",
    "    return print(f\"Hello {first} {last}! You just delved into python.\")\n",
    "\n",
    "# --- Given and locked by HackerRank\n",
    "if __name__ == '__main__':\n",
    "    first_name = input()\n",
    "    last_name = input()\n",
    "    print_full_name(first_name, last_name)"
   ]
  },
  {
   "cell_type": "markdown",
   "metadata": {},
   "source": [
    "##### 1.3.4: *Mutations*"
   ]
  },
  {
   "cell_type": "code",
   "execution_count": null,
   "metadata": {},
   "outputs": [],
   "source": [
    "def mutate_string(string, position, character):\n",
    "    # Convert the input string into a list of characters\n",
    "    l=list(string)\n",
    "    # Replace the character at the specified 'position' with the new 'character'\n",
    "    l[position] = character\n",
    "    # Join the list of characters to create a new string\n",
    "    string = ''.join(l)\n",
    "    return string\n",
    "\n",
    "# --- Given and locked by HackerRank\n",
    "if __name__ == '__main__':\n",
    "    s = input()\n",
    "    i, c = input().split()\n",
    "    s_new = mutate_string(s, int(i), c)\n",
    "    print(s_new)"
   ]
  },
  {
   "cell_type": "markdown",
   "metadata": {},
   "source": [
    "##### 1.3.5: *Find a string*"
   ]
  },
  {
   "cell_type": "code",
   "execution_count": null,
   "metadata": {},
   "outputs": [],
   "source": [
    "def count_substring(string, sub_string):\n",
    "    # Initialize a variable 'count' to keep track of the substring occurrences\n",
    "    count = 0\n",
    "    for i in range(0, len(string)):\n",
    "        # Check if the substring in the current window matches 'sub_string'...\n",
    "        if string[i : i + len(sub_string)] == sub_string:\n",
    "            #... if a match is found, 'count' increment of 1\n",
    "            count += 1        \n",
    "    return count\n",
    "\n",
    "# --- Given and locked by HackerRank\n",
    "if __name__ == '__main__':\n",
    "    string = input().strip()\n",
    "    sub_string = input().strip()\n",
    "    count = count_substring(string, sub_string)\n",
    "    print(count)"
   ]
  },
  {
   "cell_type": "markdown",
   "metadata": {},
   "source": [
    "##### 1.3.6: *String Validators*"
   ]
  },
  {
   "cell_type": "code",
   "execution_count": null,
   "metadata": {},
   "outputs": [],
   "source": [
    "# The 's' variable require a string in input\n",
    "s = input()\n",
    "# Split the input string into a list of characters\n",
    "s_split = [*s]\n",
    "\n",
    "#Check if the input string has at least one alphanumeric character and print 'True' if found, else 'False'\n",
    "for i in range(len(s_split)):\n",
    "    a = s_split[i].isalnum()\n",
    "    if a == True:\n",
    "        print(True)\n",
    "        break\n",
    "    if i == len(s_split)-1:\n",
    "        print(False)\n",
    "        break\n",
    "\n",
    "#Check if the input string has at least one alphabetical character and print 'True' if found, else 'False'\n",
    "for i in range(len(s_split)):\n",
    "    a = s_split[i].isalpha()\n",
    "    if a == True:\n",
    "        print(True)\n",
    "        break\n",
    "    if i == len(s_split)-1:\n",
    "        print(False)\n",
    "        break\n",
    "\n",
    "# Check if the input string has at least one digit and print 'True' if found, else 'False'\n",
    "for i in range(len(s_split)):\n",
    "    a = s_split[i].isdigit()\n",
    "    if a == True:\n",
    "        print(True)\n",
    "        break\n",
    "    if i == len(s_split)-1:\n",
    "        print(False)\n",
    "        break\n",
    "\n",
    "# Check if the input string has at least one lowercase character and print 'True' if found, else 'False'\n",
    "for i in range(len(s_split)):\n",
    "    a = s_split[i].islower()\n",
    "    if a == True:\n",
    "        print(True)\n",
    "        break\n",
    "    if i == len(s_split)-1:\n",
    "        print(False)\n",
    "        break\n",
    "\n",
    "# Check if the input string has at least one uppercase character and print 'True' if found, else 'False'\n",
    "for i in range(len(s_split)):\n",
    "    a = s_split[i].isupper()\n",
    "    if a == True:\n",
    "        print(True)\n",
    "        break\n",
    "    if i == len(s_split)-1:\n",
    "        print(False)\n",
    "        break"
   ]
  },
  {
   "cell_type": "markdown",
   "metadata": {},
   "source": [
    "##### 1.3.7: *Text Alignment*"
   ]
  },
  {
   "cell_type": "code",
   "execution_count": null,
   "metadata": {},
   "outputs": [],
   "source": [
    "# The 'thickness' variable require an integer number\n",
    "thickness = int(input()) #This must be an odd number\n",
    "c = 'H'\n",
    "\n",
    "#Top Cone\n",
    "for i in range(thickness):\n",
    "    print((c*i).rjust(thickness-1)+c+(c*i).ljust(thickness-1))\n",
    "\n",
    "#Top Pillars\n",
    "for i in range(thickness+1):\n",
    "    print((c*thickness).center(thickness*2)+(c*thickness).center(thickness*6))\n",
    "\n",
    "#Middle Belt\n",
    "for i in range((thickness+1)//2):\n",
    "    print((c*thickness*5).center(thickness*6)) \n",
    "\n",
    "#Bottom Pillars\n",
    "for i in range(thickness+1):\n",
    "    print((c*thickness).center(thickness*2)+(c*thickness).center(thickness*6))\n",
    "\n",
    "#Bottom Cone\n",
    "for i in range(thickness):\n",
    "    print(((c*(thickness-i-1)).rjust(thickness)+c+(c*(thickness-i-1)).ljust(thickness)).rjust(thickness*6))"
   ]
  },
  {
   "cell_type": "markdown",
   "metadata": {},
   "source": [
    "##### 1.3.8: *Text Wrap*"
   ]
  },
  {
   "cell_type": "code",
   "execution_count": null,
   "metadata": {},
   "outputs": [],
   "source": [
    "#Package found in internet (https://www.geeksforgeeks.org/textwrap-text-wrapping-filling-python/)\n",
    "import textwrap\n",
    "\n",
    "def wrap(string, max_width):\n",
    "    wrapper = textwrap.TextWrapper(width=max_width) \n",
    "    string = wrapper.fill(text=string)\n",
    "    return string \n",
    "\n",
    "# --- Given and locked by HackerRank\n",
    "if __name__ == '__main__':\n",
    "    string, max_width = input(), int(input())\n",
    "    result = wrap(string, max_width)\n",
    "    print(result)"
   ]
  },
  {
   "cell_type": "markdown",
   "metadata": {},
   "source": [
    "##### 1.3.9: *Designer Door Mat*"
   ]
  },
  {
   "cell_type": "code",
   "execution_count": null,
   "metadata": {},
   "outputs": [],
   "source": [
    "# Solution on https://www.codingbroz.com/designer-door-mat-in-python-hackerrank-solution/\n",
    "\n",
    "N, M = map(int, input().split())\n",
    "# Loop through the range of numbers from 1 to N with a step of 2 (odd numbers).\n",
    "\n",
    "for i in range(1, N, 2):\n",
    "    # Create a string of alternating dots and pipes, centered within a line of dashes.\n",
    "    print((i * \".|.\").center(M,\"-\"))\n",
    "print(\"WELCOME\".center(M, \"-\"))\n",
    "\n",
    "# Loop through the range of numbers from N-2 down to 0 with a step of -2 (even numbers).\n",
    "for i in range(N-2, -1, -2):\n",
    "    # Create a string of alternating dots and pipes, centered within a line of dashes.\n",
    "    print((i * \".|.\").center(M, \"-\"))"
   ]
  },
  {
   "cell_type": "markdown",
   "metadata": {},
   "source": [
    "##### 1.3.10: *String Formatting*"
   ]
  },
  {
   "cell_type": "code",
   "execution_count": null,
   "metadata": {},
   "outputs": [],
   "source": [
    "def print_formatted(number):\n",
    "    # Determine the width of the columns based on the binary representation of 'number'\n",
    "    width = len(bin(number)[2:])\n",
    "\n",
    "    # For each integer 'i' from 1 to 'number'...\n",
    "    for i in range(1, number+1):\n",
    "\n",
    "        # Format 'i' as a decimal, right-justified in a column of the determined width  \n",
    "        decimal = format(i).rjust(width)\n",
    "        # Format 'i' as an octal, right-justified in a column of the determined width\n",
    "        octal = format(i, 'o').rjust(width)\n",
    "        # Format 'i' as a hexadecimal (uppercase), right-justified in a column of the determined width\n",
    "        hexad = format(i, 'x').rjust(width).upper()\n",
    "        # Format 'i' as a binary, right-justified in a column of the determined width\n",
    "        binary = format(i, 'b').rjust(width)\n",
    "        print(decimal, octal, hexad, binary)"
   ]
  },
  {
   "cell_type": "markdown",
   "metadata": {},
   "source": [
    "##### 1.3.11: *Alphabet Rangoli*"
   ]
  },
  {
   "cell_type": "code",
   "execution_count": null,
   "metadata": {},
   "outputs": [],
   "source": [
    "#Solution on https://www.codingbroz.com/alphabet-rangoli-in-python-hackerrank-solution/\n",
    "\n",
    "import string\n",
    "\n",
    "def print_rangoli(size):\n",
    "    design = string.ascii_lowercase\n",
    "    L = []\n",
    "    for i in range(n):\n",
    "        s = \"-\".join(design[i:n])\n",
    "        L.append((s[::-1]+s[1:]).center(4*n-3, \"-\"))\n",
    "    print('\\n'.join(L[:0:-1]+L))"
   ]
  },
  {
   "cell_type": "markdown",
   "metadata": {},
   "source": [
    "##### 1.3.12: *Capitalize!*"
   ]
  },
  {
   "cell_type": "code",
   "execution_count": null,
   "metadata": {},
   "outputs": [],
   "source": [
    "# --- Given and locked by HackerRank\n",
    "import math\n",
    "import os\n",
    "import random\n",
    "import re\n",
    "import sys\n",
    "# ---\n",
    "\n",
    "\n",
    "def solve(s):\n",
    "    # Split the input string 's' into a list of words using space as the delimiter\n",
    "    title = s.split(\" \")\n",
    "    # Create an empty list 'cap' to store the capitalized words\n",
    "    cap = []\n",
    "\n",
    "    # Capitalize each word in the list and append it to the 'cap' list\n",
    "    for i in range(len(title)):\n",
    "        cap.append(title[i].capitalize())\n",
    "        \n",
    "    # Join the capitalized words into a single string with spaces in between\n",
    "    title = \" \".join(cap)\n",
    "    return title\n",
    "\n",
    "# --- Given and locked by HackerRank\n",
    "if __name__ == '__main__':\n",
    "    fptr = open(os.environ['OUTPUT_PATH'], 'w')\n",
    "    s = input()\n",
    "    result = solve(s)\n",
    "    fptr.write(result + '\\n')\n",
    "    fptr.close()\n"
   ]
  },
  {
   "cell_type": "markdown",
   "metadata": {},
   "source": [
    "##### 1.3.13: *The Minion Game*"
   ]
  },
  {
   "cell_type": "code",
   "execution_count": null,
   "metadata": {},
   "outputs": [],
   "source": [
    "def minion_game(string):      \n",
    "    # Initialize the score for Stuart and Kevin\n",
    "    stuartp = 0\n",
    "    kevinp = 0\n",
    "\n",
    "    # Iterate through the string\n",
    "    for x in range(len(string)):\n",
    "        # Check if the character at the current position is a vowel (AEIOU)\n",
    "        if string[x] in \"AEIOU\":\n",
    "            # Update Kevin's score by adding the remaining substrings starting from this position\n",
    "            kevinp = len(string)-x + kevinp\n",
    "        else:\n",
    "            # Update Stuart's score by adding the remaining substrings starting from this position\n",
    "            stuartp = len(string)-x + stuartp\n",
    "    \n",
    "    # Compare Stuart's and Kevin's scores and print the result\n",
    "    if stuartp > kevinp:\n",
    "        print(f\"Stuart {stuartp}\")\n",
    "    elif stuartp < kevinp:\n",
    "        print(f\"Kevin {kevinp}\")\n",
    "    else:\n",
    "        print(\"Draw\")"
   ]
  },
  {
   "cell_type": "markdown",
   "metadata": {},
   "source": [
    "##### 1.3.14: *Merge The Tools!*"
   ]
  },
  {
   "cell_type": "code",
   "execution_count": null,
   "metadata": {},
   "outputs": [],
   "source": [
    "def merge_the_tools(string, k):\n",
    "    # Iterate through the string in steps of 'k' characters\n",
    "    for i in range(0,len(string),k):\n",
    "        # Create a list 'sstring' containing a single substring of length 'k'\n",
    "        sstring = [string[i:i+k]]\n",
    "\n",
    "        for i in sstring:\n",
    "            # Initialize an empty string 'answer'\n",
    "            answer = ''\n",
    "            \n",
    "            # Check if the character 'j' is not already in 'answer'\n",
    "            for j in i:\n",
    "                if j not in answer:\n",
    "                    answer += j\n",
    "        print(answer)"
   ]
  },
  {
   "cell_type": "markdown",
   "metadata": {},
   "source": [
    "### **4. Sets *(all – total: 13 - max points: 170)***"
   ]
  },
  {
   "cell_type": "markdown",
   "metadata": {},
   "source": [
    "##### 1.4.1: *Introduction to Sets*"
   ]
  },
  {
   "cell_type": "code",
   "execution_count": null,
   "metadata": {},
   "outputs": [],
   "source": [
    "from statistics import mean \n",
    "\n",
    "# Initialize an empty list 'new' to store values\n",
    "new = []\n",
    "\n",
    "def average(array):\n",
    "    # Iterate through the elements in 'array'\n",
    "    for i in array:\n",
    "\n",
    "        # Check if the element 'i' is not already in the 'new' list, it append in 'new'\n",
    "        if i not in new:\n",
    "            new.append(i)\n",
    "    \n",
    "    # Calculate the mean (average) of the unique values in 'new'\n",
    "    media = mean(new)\n",
    "    return media\n",
    "\n",
    "# --- Given and locked by HackerRank\n",
    "if __name__ == '__main__':\n",
    "    n = int(input())\n",
    "    arr = list(map(int, input().split()))\n",
    "    result = average(arr)\n",
    "    print(result)"
   ]
  },
  {
   "cell_type": "markdown",
   "metadata": {},
   "source": [
    "##### 1.4.2: *No Idea!*"
   ]
  },
  {
   "cell_type": "code",
   "execution_count": null,
   "metadata": {},
   "outputs": [],
   "source": [
    "n, m = input().split()\n",
    "n_array = input().split()\n",
    "a = set(input().split())\n",
    "b = set(input().split())\n",
    "# Initialize a variable 'happy' to store the happiness score\n",
    "happy = 0\n",
    "\n",
    "# Iterate through the elements in 'n_array'\n",
    "for i in n_array:\n",
    "    # Check if 'i' is in set 'a' (increment happiness) and 'b' (decrement happiness)\n",
    "    happy = (i in a) - (i in b) + happy\n",
    "\n",
    "print(happy)"
   ]
  },
  {
   "cell_type": "markdown",
   "metadata": {},
   "source": [
    "##### 1.4.3: *Symmetric Difference*"
   ]
  },
  {
   "cell_type": "code",
   "execution_count": null,
   "metadata": {},
   "outputs": [],
   "source": [
    "# Get the number of elements in set 'a', 'M', and convert them to integers\n",
    "M = int(input())\n",
    "a = set(map(int, input().split()))\n",
    "\n",
    "# Get the number of elements in set 'b', 'N', and convert them to integers\n",
    "N = int(input())\n",
    "b = set(map(int, input().split()))\n",
    "\n",
    "# Find the set difference between 'a' and 'b', and between 'b' and 'a'\n",
    "c = a.difference(b)\n",
    "d = b.difference(a)\n",
    "\n",
    "# Combine the differences to create a new set 'e' containing all unique elements\n",
    "e = c.union(d)\n",
    "\n",
    "# Iterate through sorted elements in set 'e' and print them\n",
    "for i in sorted(e):\n",
    "    print(i)"
   ]
  },
  {
   "cell_type": "markdown",
   "metadata": {},
   "source": [
    "##### 1.4.4: *Set .add()*"
   ]
  },
  {
   "cell_type": "code",
   "execution_count": null,
   "metadata": {},
   "outputs": [],
   "source": [
    "n = int(input())\n",
    "line = set()\n",
    "\n",
    "# Iterate 'n' times to collect unique input and add them to the set 'line'\n",
    "for i in range(n):\n",
    "    line.add(input())\n",
    "\n",
    "# Print the size of the set 'line'\n",
    "print(len(line))"
   ]
  },
  {
   "cell_type": "markdown",
   "metadata": {},
   "source": [
    "##### 1.4.5: *Set .discard(), .remove() & .pop()*"
   ]
  },
  {
   "cell_type": "code",
   "execution_count": null,
   "metadata": {},
   "outputs": [],
   "source": [
    "N = int(input())\n",
    "set1 = set(map(int, input().split()))\n",
    "# Get the number of commands 'n_commands'\n",
    "n_commands = int(input())\n",
    "\n",
    "# Iterate in range from 0 to 'n_commands' times\n",
    "for i in range(n_commands):\n",
    "    # Split the command and arguments\n",
    "    word = input().split()\n",
    "\n",
    "    # Check the command and execute the corresponding action on 'set1'\n",
    "    if word[0] == 'pop':\n",
    "        set1.pop()\n",
    "    elif word[0] == 'remove':\n",
    "        set1.remove(int(word[1]))\n",
    "    elif word[0] == 'discard':\n",
    "        set1.discard(int(word[1]))\n",
    "        \n",
    "# Print the sum of the elements in 'set1' after executing the commands\n",
    "print(sum(set1))"
   ]
  },
  {
   "cell_type": "markdown",
   "metadata": {},
   "source": [
    "##### 1.4.6: *Set .union() Operation*"
   ]
  },
  {
   "cell_type": "code",
   "execution_count": null,
   "metadata": {},
   "outputs": [],
   "source": [
    "N = int(input())\n",
    "set_n = set(map(int, input().split()))\n",
    "M = int(input())\n",
    "set_m = set(map(int, input().split()))\n",
    "\n",
    "# Calculate the union of two sets 'set_n' and 'set_m', store the result in 'total'\n",
    "total = set_n.union(set_m)\n",
    "print(len(total))"
   ]
  },
  {
   "cell_type": "markdown",
   "metadata": {},
   "source": [
    "##### 1.4.7: *Set .intersection() Operation*"
   ]
  },
  {
   "cell_type": "code",
   "execution_count": null,
   "metadata": {},
   "outputs": [],
   "source": [
    "N = int(input())\n",
    "set_n = set(map(int, input().split()))\n",
    "M = int(input())\n",
    "set_m = set(map(int, input().split()))\n",
    "\n",
    "# Calculate the intersection of two sets 'set_n' and 'set_m', store the result in 'total'\n",
    "total = set_n.intersection(set_m)\n",
    "print(len(total))"
   ]
  },
  {
   "cell_type": "markdown",
   "metadata": {},
   "source": [
    "##### 1.4.8: *Set .difference() Operation*"
   ]
  },
  {
   "cell_type": "code",
   "execution_count": null,
   "metadata": {},
   "outputs": [],
   "source": [
    "N = int(input())\n",
    "set_n = set(map(int, input().split()))\n",
    "M = int(input())\n",
    "set_m = set(map(int, input().split()))\n",
    "\n",
    "# Calculate the difference of two sets 'set_n' and 'set_m', store the result in 'total'\n",
    "total = set_n.difference(set_m)\n",
    "print(len(total))"
   ]
  },
  {
   "cell_type": "markdown",
   "metadata": {},
   "source": [
    "##### 1.4.9: *Set .symmetric_difference() Operation*"
   ]
  },
  {
   "cell_type": "code",
   "execution_count": null,
   "metadata": {},
   "outputs": [],
   "source": [
    "N = int(input())\n",
    "set_n = set(map(int, input().split()))\n",
    "M = int(input())\n",
    "set_m = set(map(int, input().split()))\n",
    "\n",
    "# Calculate the symmetric difference of two sets 'set_n' and 'set_m', store the result in 'total'\n",
    "total = set_n.symmetric_difference(set_m)\n",
    "print(len(total))"
   ]
  },
  {
   "cell_type": "markdown",
   "metadata": {},
   "source": [
    "##### 1.4.10: *Set Mutations*"
   ]
  },
  {
   "cell_type": "code",
   "execution_count": null,
   "metadata": {},
   "outputs": [],
   "source": [
    "N = int(input())\n",
    "set1 = set(map(int, input().split()))\n",
    "n_sets = int(input())\n",
    "\n",
    "# Iterate from 0 to 'n_sets' times\n",
    "for i in range((n_sets)):\n",
    "    # Split the operation command and the size 'M' of the second set\n",
    "    word, M = input().split()\n",
    "    set2 = set(map(int, input().split()))\n",
    "\n",
    "    # Check the operation command and update 'set1' accordingly\n",
    "    if word == 'intersection_update':\n",
    "        set1.intersection_update(set2)\n",
    "    elif word == 'update':\n",
    "        set1.update(set2)\n",
    "    elif word == 'symmetric_difference_update':\n",
    "        set1.symmetric_difference_update(set2)\n",
    "    elif word == 'difference_update':\n",
    "        set1.difference_update(set2)\n",
    "\n",
    "# Print the sum of the elements in 'set1' after applying the set operations\n",
    "print(sum(set1))"
   ]
  },
  {
   "cell_type": "markdown",
   "metadata": {},
   "source": [
    "##### 1.4.11: *The Captain's Room*"
   ]
  },
  {
   "cell_type": "code",
   "execution_count": null,
   "metadata": {},
   "outputs": [],
   "source": [
    "N = int(input())\n",
    "arr1 = list(map(int, input().split()))\n",
    "set1 = set(arr1)\n",
    "\n",
    "# Calculate and print the element that it repeat one time in the list 'arr1'\n",
    "# (sum of unique elements in 'set1' multiplied by 'N' minus the sum of 'arr1') divided by (N - 1)\n",
    "print(((sum(set1)*N)-(sum(arr1)))//(N-1))"
   ]
  },
  {
   "cell_type": "markdown",
   "metadata": {},
   "source": [
    "##### 1.4.12: *Check Subset*"
   ]
  },
  {
   "cell_type": "code",
   "execution_count": null,
   "metadata": {},
   "outputs": [],
   "source": [
    "N = int(input())\n",
    "\n",
    "\n",
    "for i in range(N):\n",
    "    number_A = int(input())\n",
    "    set_A = set(map(int, input().split()))\n",
    "    number_B = int(input())\n",
    "    set_B = set(map(int, input().split()))\n",
    "    \n",
    "    # Check and print whether set_A is a subset of set_B\n",
    "    print(set_A.issubset(set_B))"
   ]
  },
  {
   "cell_type": "markdown",
   "metadata": {},
   "source": [
    "##### 1.4.13: *Check Strict Superset*"
   ]
  },
  {
   "cell_type": "code",
   "execution_count": null,
   "metadata": {},
   "outputs": [],
   "source": [
    "set_1 = set(map(int, input().split()))\n",
    "\n",
    "numbers_sets = int(input())\n",
    "for i in range(numbers_sets):\n",
    "    set_n = set(map(int, input().split()))\n",
    "    # Check whether set_1 is a superset of set_n in each interation\n",
    "    result = set_1.issuperset(set_n)\n",
    "    if result == True:\n",
    "        continue\n",
    "    else:\n",
    "        break\n",
    "\n",
    "print(result)"
   ]
  },
  {
   "cell_type": "markdown",
   "metadata": {},
   "source": [
    "### **5. Collection *(all – total: 8 - max points: 220)***"
   ]
  },
  {
   "cell_type": "markdown",
   "metadata": {},
   "source": [
    "##### 1.5.1: *collections.Counter()*"
   ]
  },
  {
   "cell_type": "code",
   "execution_count": null,
   "metadata": {},
   "outputs": [],
   "source": [
    "# 'N' contain the number of shoes\n",
    "N = int(input())\n",
    "# 'coll' contains the space separated list of all the shoe sizes in the shop\n",
    "coll = list(map(int, input().split()))\n",
    "# 'M' contain the number of customers (the next 6 purchases)\n",
    "M = int(input())\n",
    "sum1 = 0\n",
    "\n",
    "# Iterate from 0 to 'M'\n",
    "for i in range(M):\n",
    "    #Get the purchase which is formed by 'coll_n' (shoe size) and its 'price'\n",
    "    coll_n, price = input().split()\n",
    "    coll_n = int(coll_n)\n",
    "    price = int(price)\n",
    "\n",
    "    # Check if 'coll_n' is in the 'coll' list (in the shop), if 'Yes' remove in this, and add the new 'coll_n' with new 'price'\n",
    "    if coll_n in coll:\n",
    "        coll.remove(coll_n)\n",
    "        sum1 += price\n",
    "    #... else continue in 'for' cycle\n",
    "    elif coll_n not in coll:\n",
    "        continue\n",
    "\n",
    "\n",
    "print(sum1)"
   ]
  },
  {
   "cell_type": "markdown",
   "metadata": {},
   "source": [
    "##### 1.5.2: *DefaultDict Tutorial*"
   ]
  },
  {
   "cell_type": "code",
   "execution_count": null,
   "metadata": {},
   "outputs": [],
   "source": [
    "from collections import defaultdict\n",
    "\n",
    "# 'N' and 'M' are the size of 'group_a' and Group B\n",
    "N, M = map(int, input().split())\n",
    "# Create a 'defaultdict' named 'group_a' with lists as default values\n",
    "group_a = defaultdict(list)\n",
    "list1=[]\n",
    "\n",
    "# Iterate from 1 to 'N+1'\n",
    "for i in range(1, N+1):\n",
    "    # Add each string from an input (use it as a key) at list of value. \n",
    "    # Append the current 'i' value as a string to the list associated with the input string key.\n",
    "    group_a[input()].append(str(i))\n",
    "\n",
    "# Iterate 'M' times\n",
    "for j in range(M):\n",
    "    # 'inp1' require in input every element in Group B...\n",
    "    inp1 = input()\n",
    "\n",
    "    #... and check if 'inp1' is in 'group_A'\n",
    "    if inp1 in group_a:\n",
    "        #Print (per each 'index') the list in group_a in ONE line (joined by spaces)\n",
    "        print(' '.join(group_a[inp1]))\n",
    "\n",
    "    #... else if 'inp1' is not in 'group_a', print -1\n",
    "    else:\n",
    "        print(-1)"
   ]
  },
  {
   "cell_type": "markdown",
   "metadata": {},
   "source": [
    "##### 1.5.3: *Collections.namedtuple()*"
   ]
  },
  {
   "cell_type": "code",
   "execution_count": null,
   "metadata": {},
   "outputs": [],
   "source": [
    "from collections import namedtuple\n",
    "# Initialize a variable 'voto' to 0\n",
    "voto = 0\n",
    "\n",
    "# Read an integer 'N' from input, representing the number of students\n",
    "N = int(input())\n",
    "# Create a namedtuple class 'STUDENT' and define its fields based on the space-separated input string\n",
    "students = namedtuple('STUDENT', input().split())\n",
    "\n",
    "for i in range(N):\n",
    "    # Require in input the value of fields of students, split it into a list, create a 'STUDENT' namedtuple instance, and access its 'MARKS' field\n",
    "    # Then, convert the 'MARKS' field to an integer and add it to 'voto'\n",
    "    voto = int(students(*(input().split())).MARKS) + voto\n",
    "\n",
    "# Print the average MARKS of students ('voto')\n",
    "print(voto/N)"
   ]
  },
  {
   "cell_type": "markdown",
   "metadata": {},
   "source": [
    "##### 1.5.4: *Collections.OrderedDict()*"
   ]
  },
  {
   "cell_type": "code",
   "execution_count": null,
   "metadata": {},
   "outputs": [],
   "source": [
    "from collections import OrderedDict\n",
    "\n",
    "# 'N' contains the number of items\n",
    "N = int(input())\n",
    "# Create an ordered dictionary 'shop' to store items and their net prices\n",
    "shop = OrderedDict()\n",
    "summ = 0\n",
    "\n",
    "for i in range(N):\n",
    "    # Read input, split it into parts, and extract the 'item' name and 'net_price'\n",
    "    *item, net_price = input().split()\n",
    "    item_name = ' '.join(item)\n",
    "    net_price = int(net_price)\n",
    "\n",
    "    # Check if the item is already in the shop...\n",
    "    if item_name not in shop:\n",
    "        # ... if not, add it to the 'shop' dictionary with its net price\n",
    "        shop[item_name] = net_price\n",
    "    else:\n",
    "        # ...else if it's already in the shop, add the net price to the running total 'summ'\n",
    "        # and update the value in the 'shop' dictionary with the new total\n",
    "        summ = shop[item_name]\n",
    "        summ = summ + net_price\n",
    "        shop[item_name] = summ\n",
    "\n",
    "# Iterate through the items in the 'shop' and print each item name and its net price\n",
    "for key, value in shop.items():\n",
    "    print(key, value)"
   ]
  },
  {
   "cell_type": "markdown",
   "metadata": {},
   "source": [
    "##### 1.5.5: *Word Order*"
   ]
  },
  {
   "cell_type": "code",
   "execution_count": null,
   "metadata": {},
   "outputs": [],
   "source": [
    "from collections import OrderedDict\n",
    "\n",
    "N = int(input())\n",
    "# Create an ordered dictionary 'words' to store unique word and their counts\n",
    "words = OrderedDict()\n",
    "summ = 0\n",
    "# Initialize an empty string 'outp' to store the output\n",
    "outp=''\n",
    "\n",
    "for i in range(N):\n",
    "    line = input()\n",
    "    # Check if the line is already in 'words'...\n",
    "    # ... if not, add it to the 'words' dictionary with a count of 1\n",
    "    if line not in words:\n",
    "        words[line] = 1\n",
    "    \n",
    "    # ... if it's already in 'words', update the count by 1\n",
    "    elif line in words:\n",
    "        summ = words[line]\n",
    "        summ = summ + 1\n",
    "        words[line] = summ\n",
    "\n",
    "# Print the number of word in 'words'\n",
    "print(len(words))\n",
    "\n",
    "# For each word in 'words' extracts the value (the times it is repeated) and trasform it in string in 'outp'...\n",
    "for key, value in words.items():\n",
    "    outp += str(value) + ' '\n",
    "#... in order to print a string with all number (times) separeted by spaces\n",
    "print(outp)"
   ]
  },
  {
   "cell_type": "markdown",
   "metadata": {},
   "source": [
    "##### 1.5.6: *Collections.deque()*"
   ]
  },
  {
   "cell_type": "code",
   "execution_count": null,
   "metadata": {},
   "outputs": [],
   "source": [
    "from collections import deque\n",
    "\n",
    "# 'N' contain the number of operations\n",
    "N = int(input())\n",
    "# A deque is a double-ended queue. It can be used to add or remove elements from both ends\n",
    "d = deque()\n",
    "\n",
    "# The next 'N' lines contains the space separated names of methods and their values\n",
    "for i in range(N):\n",
    "    method = input().split()\n",
    "    if method[0] == 'append':\n",
    "        d.append(int(method[1]))\n",
    "    elif method[0] == 'appendleft':\n",
    "        d.appendleft(method[1])\n",
    "    elif method[0] == 'pop':\n",
    "        d.pop()\n",
    "    elif method[0] == 'popleft':\n",
    "        d.popleft()     \n",
    "    \n",
    "print(*d)"
   ]
  },
  {
   "cell_type": "markdown",
   "metadata": {},
   "source": [
    "##### 1.5.7: *Piling Up!*"
   ]
  },
  {
   "cell_type": "code",
   "execution_count": null,
   "metadata": {},
   "outputs": [],
   "source": [
    "# 'T' require the number of test cases\n",
    "T = int(input())\n",
    "\n",
    "for i in range(T):\n",
    "    # The first line of each test case contains the number of cubes (block size)\n",
    "    block_size = int(input())\n",
    "    # The second line contains all integer in cube\n",
    "    list1 = [int(i) for i in input().split()]\n",
    "    # Find the index of the smallest element in 'list1'\n",
    "    min_list = list1.index(min(list1))\n",
    "    # Split the 'list1' into two parts: 'left' and 'right' of the smallest element\n",
    "    left = list1[:min_list]\n",
    "    right = list1[min_list+1:]\n",
    "\n",
    "    # Check if 'left' is sorted in non-increasing order and 'right' is sorted in non-decreasing order\n",
    "    if left == sorted(left,reverse=True) and right == sorted(right):\n",
    "        print(\"Yes\")\n",
    "    else:\n",
    "        print(\"No\")"
   ]
  },
  {
   "cell_type": "markdown",
   "metadata": {},
   "source": [
    "##### 1.5.8: *Company Logo*"
   ]
  },
  {
   "cell_type": "code",
   "execution_count": null,
   "metadata": {},
   "outputs": [],
   "source": [
    "import math\n",
    "import os\n",
    "import random\n",
    "import re\n",
    "import sys\n",
    "from collections import Counter\n",
    "\n",
    "s = input()\n",
    "s = sorted(s)\n",
    "# Use Counter to count the frequency of each character in the sorted string\n",
    "freq = Counter(list(s))\n",
    "# For the most common 3 characters and their frequencies...\n",
    "for key, value in freq.most_common(3):\n",
    "    # ... print the character and its frequency\n",
    "    print(key, value)"
   ]
  },
  {
   "cell_type": "markdown",
   "metadata": {},
   "source": [
    "### **6. Date and Time *(all – total: 2 - max points: 40)***"
   ]
  },
  {
   "cell_type": "markdown",
   "metadata": {},
   "source": [
    "##### 1.6.1: *Calendar Module*"
   ]
  },
  {
   "cell_type": "code",
   "execution_count": null,
   "metadata": {},
   "outputs": [],
   "source": [
    "import calendar\n",
    "\n",
    "inp = input().split()\n",
    "month = int(inp[0])\n",
    "day = int(inp[1])\n",
    "year = int(inp[2])\n",
    "# Use the 'calendar.weekday' function to calculate the weekday (from '0' for Monday, to '6' for Sunday)\n",
    "c = calendar.weekday(year, month, day)\n",
    "\n",
    "# Print the corresponding weekday\n",
    "if c == 0:\n",
    "    print(\"MONDAY\")\n",
    "elif c == 1:\n",
    "    print(\"TUESDAY\")\n",
    "elif c == 2:\n",
    "    print(\"WEDNESDAY\")\n",
    "elif c==3:\n",
    "    print(\"THURSDAY\")\n",
    "elif c==4:\n",
    "    print(\"FRIDAY\")\n",
    "elif c== 5:\n",
    "    print(\"SATURDAY\")\n",
    "elif c==6:\n",
    "    print(\"SUNDAY\")"
   ]
  },
  {
   "cell_type": "markdown",
   "metadata": {},
   "source": [
    "##### 1.6.2: *Time Delta*"
   ]
  },
  {
   "cell_type": "code",
   "execution_count": null,
   "metadata": {},
   "outputs": [],
   "source": [
    "import os\n",
    "from datetime import datetime\n",
    "\n",
    "# Define a function 'time_delta' that calculates the time difference between two timestamps\n",
    "def time_delta(t1, t2):\n",
    "    # Define the expected timestamp format\n",
    "    time_format = '%a %d %b %Y %H:%M:%S %z'\n",
    "\n",
    "    # Parse the input timestamps 't1' and 't2' using the defined format\n",
    "    t1 = datetime.strptime(t1, time_format)\n",
    "    t2 = datetime.strptime(t2, time_format)\n",
    "    # Calculate the absolute time difference in seconds and convert it to an integer\n",
    "    return str(int(abs((t1-t2).total_seconds()))) \n",
    "\n",
    "# --- Given by HackerRank\n",
    "if __name__ == '__main__':\n",
    "    fptr = open(os.environ['OUTPUT_PATH'], 'w')\n",
    "    t = int(input())\n",
    "    for t_itr in range(t):\n",
    "        t1 = input()\n",
    "        t2 = input()\n",
    "        delta = time_delta(t1, t2)\n",
    "        fptr.write(delta + '\\n')\n",
    "    fptr.close()\n"
   ]
  },
  {
   "cell_type": "markdown",
   "metadata": {},
   "source": [
    "### **7. Exceptions *(only 1 - max points: 10)***"
   ]
  },
  {
   "cell_type": "markdown",
   "metadata": {},
   "source": [
    "##### 1.7.1: *Exceptions*"
   ]
  },
  {
   "cell_type": "code",
   "execution_count": null,
   "metadata": {},
   "outputs": [],
   "source": [
    "T = int(input())\n",
    "\n",
    "for i in range(T):\n",
    "    # Read two space-separated integers 'a' and 'b' from input\n",
    "    a,b = input().split()\n",
    "\n",
    "    # Try to perform integer division of 'a' by 'b' and print the result...\n",
    "    try:\n",
    "        print(int(a)//int(b))\n",
    "\n",
    "    # ... handle the case of division by zero and print an error message\n",
    "    except ZeroDivisionError as e:\n",
    "        print(\"Error Code:\", e)\n",
    "    # ... handle syntax errors and print an error message\n",
    "    except SyntaxError as e:\n",
    "        print(\"Error Code:\", e)\n",
    "    # ... handle value error and print an error message\n",
    "    except ValueError as e:\n",
    "        print(\"Error Code:\", e)"
   ]
  },
  {
   "cell_type": "markdown",
   "metadata": {},
   "source": [
    "### **8. Built-ins *(only 3 - max points: 80)***"
   ]
  },
  {
   "cell_type": "markdown",
   "metadata": {},
   "source": [
    "##### 1.8.1: *Zipped!*"
   ]
  },
  {
   "cell_type": "code",
   "execution_count": null,
   "metadata": {},
   "outputs": [],
   "source": [
    "N, X = map(int, input().split())\n",
    "students = []\n",
    "\n",
    "for i in range(X):\n",
    "    # Read a list ('std') of floating-point scores for a student and append it to the 'students' list\n",
    "    std=list(map(float, input().split()))\n",
    "    students += [std]\n",
    "\n",
    "# Create a new list 'zipp' by transposing the 'students' list (swapping rows and columns)\n",
    "zipp = list(zip(*students))\n",
    "\n",
    "# Iterate through each student (N times)\n",
    "for j in range(N):\n",
    "    summ = 0\n",
    "\n",
    "    # Iterate through each subject for the current student\n",
    "    for i in zipp[j]:\n",
    "        # Add the score for the subject to the running sum\n",
    "        summ += i\n",
    "        \n",
    "    # Calculate and print the average score for the current student\n",
    "    print(summ/X)"
   ]
  },
  {
   "cell_type": "markdown",
   "metadata": {},
   "source": [
    "##### 1.8.2: *Athlete Sort*"
   ]
  },
  {
   "cell_type": "code",
   "execution_count": null,
   "metadata": {},
   "outputs": [],
   "source": [
    "import math\n",
    "import os\n",
    "import random\n",
    "import re\n",
    "import sys\n",
    "\n",
    "if __name__ == '__main__':\n",
    "    nm = input().split()\n",
    "    n = int(nm[0])\n",
    "    m = int(nm[1])\n",
    "    arr = []\n",
    "\n",
    "    # Read 'n' lines of data, convert them into a list of lists of integers, and append them to 'arr'\n",
    "    for _ in range(n):\n",
    "        arr.append(list(map(int, input().rstrip().split())))\n",
    "    k = int(input())\n",
    "    # Sort the 'arr' list based on the value in column 'k'\n",
    "    arr.sort(key=lambda x: x[k])\n",
    "\n",
    "    # Iterate through the rows of 'arr' and print each row as a string of values separated by spaces\n",
    "    for _ in range(n):\n",
    "        print(\" \".join(map(str, arr[_])))"
   ]
  },
  {
   "cell_type": "markdown",
   "metadata": {},
   "source": [
    "##### 1.8.3: *ginortS*"
   ]
  },
  {
   "cell_type": "code",
   "execution_count": null,
   "metadata": {},
   "outputs": [],
   "source": [
    "S = input()\n",
    "# Initialize empty lists to categorize characters\n",
    "lower_case = []    # To store lowercase letters\n",
    "upper_case = []    # To store uppercase letters\n",
    "odd_digits = []    # To store odd digits\n",
    "even_digits = []   # To store even digits\n",
    "\n",
    "# Iterate through each character in the input string 'S'\n",
    "for char in S:\n",
    "    if char.islower():\n",
    "        lower_case.append(char)\n",
    "    elif char.isupper():\n",
    "        upper_case.append(char)\n",
    "    elif char.isdigit():\n",
    "        if int(char)%2==0:\n",
    "            even_digits.append(char)\n",
    "        else:\n",
    "            odd_digits.append(char)\n",
    "\n",
    "# Sort and concatenate the character lists, then print the result\n",
    "print(''.join(sorted(lower_case)+sorted(upper_case)+sorted(odd_digits)+sorted(even_digits)))"
   ]
  },
  {
   "cell_type": "markdown",
   "metadata": {},
   "source": [
    "### **9. Python Functionals *(only 1 - max points: 20)***"
   ]
  },
  {
   "cell_type": "markdown",
   "metadata": {},
   "source": [
    "##### 1.9.1: *Map and Lambda Function*"
   ]
  },
  {
   "cell_type": "code",
   "execution_count": null,
   "metadata": {},
   "outputs": [],
   "source": [
    "# Define a lambda function 'cube' that computes the cube of a number 'x'\n",
    "cube = lambda x: x**3\n",
    "\n",
    "def fibonacci(n):\n",
    "    # Base cases for n=0, n=1, and n=2\n",
    "    if n==0:\n",
    "        return []\n",
    "    if n==1:\n",
    "        return [0]\n",
    "    if n==2:\n",
    "        return [0,1]\n",
    "    # Initialize a list 'list_fib' with the first two Fibonacci numbers (if 'n' is bigger than 2)\n",
    "    list_fib= [0, 1]\n",
    "\n",
    "    # Generate the rest of the Fibonacci sequence up to 'n' terms\n",
    "    for i in range(2, n):\n",
    "        list_fib.append(list_fib[i-2]+list_fib[i-1])\n",
    "    return list_fib\n",
    "\n",
    "if __name__ == '__main__':\n",
    "    n = int(input())\n",
    "    print(list(map(cube, fibonacci(n))))"
   ]
  },
  {
   "cell_type": "markdown",
   "metadata": {},
   "source": [
    "### **10. Regex and Parsing challenges *(all – total: 17 - max points: 560)***"
   ]
  },
  {
   "cell_type": "markdown",
   "metadata": {},
   "source": [
    "##### 1.10.1: *Detect Floating Point Number*"
   ]
  },
  {
   "cell_type": "code",
   "execution_count": null,
   "metadata": {},
   "outputs": [],
   "source": [
    "# The 'N' variable require an integer number\n",
    "N = int(input())\n",
    "\n",
    "# For every interaction in range (from 0 to 'N') it try N-times float input...\n",
    "for i in range(N):\n",
    "    try:\n",
    "        #... if it is equal to 0, it print False\n",
    "        inp1 = float(input())\n",
    "        if inp1 == 0:\n",
    "            print(False)\n",
    "        #... else it print True    \n",
    "        else:\n",
    "            print(True)\n",
    "    #... if the value in input is not a float, it recognize a ValueError and print False\n",
    "    except ValueError as e:\n",
    "        print(False)"
   ]
  },
  {
   "cell_type": "markdown",
   "metadata": {},
   "source": [
    "##### 1.10.2: *Re.split()*"
   ]
  },
  {
   "cell_type": "code",
   "execution_count": null,
   "metadata": {},
   "outputs": [],
   "source": [
    "# The pattern to split is included by \"[]\" bracket, within all the symbol that it use for split.\n",
    "regex_pattern = r\"[,.]\"\n",
    "\n",
    "# --- Given and locked by HackerRank\n",
    "import re\n",
    "print(\"\\n\".join(re.split(regex_pattern, input())))"
   ]
  },
  {
   "cell_type": "markdown",
   "metadata": {},
   "source": [
    "##### 1.10.3: *Group(), Groups() & Groupdict()*"
   ]
  },
  {
   "cell_type": "code",
   "execution_count": null,
   "metadata": {},
   "outputs": [],
   "source": [
    "import re\n",
    "\n",
    "# The 'S' variable require a string\n",
    "S = input()\n",
    "# For our pattern we 'catch' only alphanumeric charachters (lowercase and uppercase letters) - [a-zA-Z0-9]\n",
    "# '\\1' refer to the 1st capturing group (it find a char that exactly matches in the 1st capturing group)\n",
    "# '{1,}' is a quantifier that find the number of times of char (found before)\n",
    "pattern = re.compile(r'([a-zA-Z0-9])\\1{1,}')\n",
    "# 'search' is used to search for a pattern within a string\n",
    "m=re.search(pattern, S)\n",
    "\n",
    "# Check if a match was found...\n",
    "if m:\n",
    "    #... and print the first char of the found match\n",
    "    print(m.group()[0])\n",
    "#... else it print -1, if no match was found\n",
    "else:\n",
    "    print(-1)"
   ]
  },
  {
   "cell_type": "markdown",
   "metadata": {},
   "source": [
    "##### 1.10.4: *Re.findall() & Re.finditer()*"
   ]
  },
  {
   "cell_type": "code",
   "execution_count": null,
   "metadata": {},
   "outputs": [],
   "source": [
    "import re\n",
    "\n",
    "# Define a regular expression pattern for finding sequences of 2 or more vowels\n",
    "# that are not surrounded by other vowels, digits, whitespace, or non-word characters.\n",
    "pattern = '(?<=[^aeiou\\s\\d\\W_])([aeiou]{2,})(?=[^aeiou\\s\\d\\W_])'\n",
    "\n",
    "# Use the 're.findall' function to find all non-overlapping matches of the pattern in the input text. Ignore the case of the characters.\n",
    "lst = re.findall(rf'{pattern}', input(), re.IGNORECASE)\n",
    "\n",
    "if lst:\n",
    "    # If matches were found, print them with each match on a new line.\n",
    "    print(*lst, sep='\\n')\n",
    "else:\n",
    "    # If no matches were found, print -1 to indicate this\n",
    "    print(-1)"
   ]
  },
  {
   "cell_type": "markdown",
   "metadata": {},
   "source": [
    "##### 1.10.5: *Re.start() & Re.end()*"
   ]
  },
  {
   "cell_type": "code",
   "execution_count": null,
   "metadata": {},
   "outputs": [],
   "source": [
    "import re\n",
    "\n",
    "S = input()\n",
    "k = input()\n",
    "\n",
    "# Create a regular expression pattern that searches for the substring 'k' within the string 'S'\n",
    "pattern = re.compile(f'(?=({re.escape(k)}))')\n",
    "\n",
    "# Find all occurrences of the substring 'k' within the string 'S' and store the start and end indices\n",
    "occurrences = [(match.start(1), match.end(1) - 1) for match in pattern.finditer(S)]\n",
    "\n",
    "if occurrences:\n",
    "    # Print the start and end indices of each occurrence\n",
    "    for i in occurrences:\n",
    "        print(i)\n",
    "else:\n",
    "    # If no occurrences were found, print (-1, -1)\n",
    "    print(tuple((-1,-1)))"
   ]
  },
  {
   "cell_type": "markdown",
   "metadata": {},
   "source": [
    "##### 1.10.6: *Regex Substitution*"
   ]
  },
  {
   "cell_type": "code",
   "execution_count": null,
   "metadata": {},
   "outputs": [],
   "source": [
    "import re\n",
    "\n",
    "n = int(input())\n",
    "# Create a dictionary to map '&&' to 'and' and '||' to 'or'\n",
    "match_dict = {'&&': 'and', '||': 'or'}\n",
    "\n",
    "# Iterate 'n' times to process 'n' lines\n",
    "for i in range(n):\n",
    "    s = input()\n",
    "    # Use regular expression substitution to replace '&&' and '||' with 'and' and 'or' if they are surrounded by spaces\n",
    "    substitute = re.sub(r'(?<= )(?P<operator>&{2}|\\|{2})(?= )', lambda x: match_dict.get(x.group('operator')), s)\n",
    "    print(substitute)"
   ]
  },
  {
   "cell_type": "markdown",
   "metadata": {},
   "source": [
    "##### 1.10.7: *Validating Roman Numerals*"
   ]
  },
  {
   "cell_type": "code",
   "execution_count": null,
   "metadata": {},
   "outputs": [],
   "source": [
    "regex_pattern = r'^(M{0,3}(CM|CD|D?C{0,3})(XC|XL|L?X{0,3})(IX|IV|V?I{0,3}))$'\n",
    "\n",
    "import re\n",
    "print(str(bool(re.match(regex_pattern, input()))))"
   ]
  },
  {
   "cell_type": "markdown",
   "metadata": {},
   "source": [
    "##### 1.10.8: *Validating phone numbers*"
   ]
  },
  {
   "cell_type": "code",
   "execution_count": null,
   "metadata": {},
   "outputs": [],
   "source": [
    "import re\n",
    "\n",
    "# Read number of cases\n",
    "n = int(input())\n",
    "\n",
    "# Regex pattern to accept only 10 digit numbers starting with 7, 8 or 9\n",
    "regex = r'[789][0-9]{9}'\n",
    "\n",
    "for i in range(n):\n",
    "        user_in = input()\n",
    "        # If number matches regex and length == 10, print YES, else print NO\n",
    "        if re.match(regex, user_in) and len(user_in) == 10:\n",
    "                print('YES')\n",
    "        else:\n",
    "                print('NO')"
   ]
  },
  {
   "cell_type": "markdown",
   "metadata": {},
   "source": [
    "##### 1.10.9: *Validating and Parsing Email Addresses*"
   ]
  },
  {
   "cell_type": "code",
   "execution_count": null,
   "metadata": {},
   "outputs": [],
   "source": [
    "import re\n",
    "\n",
    "# Read number of test cases\n",
    "n = int(input())\n",
    "\n",
    "# Regex pattern\n",
    "regex = r'[a-zA-Z0-9]+ <[a-z0-9]+[-_.a-zA-Z0-9]+@[a-z]+[.][a-z]{1,3}>'\n",
    "\n",
    "# Make list for valid emails\n",
    "emails = []\n",
    "for i in range(n):\n",
    "\n",
    "        # Read input from user\n",
    "        email = input()\n",
    "\n",
    "        # If email is valid, append to list\n",
    "        if re.match(regex, email):\n",
    "                emails.append(email)\n",
    "\n",
    "# Print valid emails\n",
    "for i in emails:\n",
    "        print(i)"
   ]
  },
  {
   "cell_type": "markdown",
   "metadata": {},
   "source": [
    "##### 1.10.10: *Hex Color Code*"
   ]
  },
  {
   "cell_type": "code",
   "execution_count": null,
   "metadata": {},
   "outputs": [],
   "source": [
    "import re\n",
    "\n",
    "# Define a 'pattern' to match hexadecimal color codes (e.g., #A1B). The pattern matches '#' followed by one or two sets of three hexadecimal digits.\n",
    "pattern = r'(?!^)(#([\\dA-Fa-f]{3}){1,2})'\n",
    "\n",
    "# Read an integer from the user and use it to determine the number of iterations\n",
    "for i in range(int(input())):\n",
    "    # Read a line of text from the user and attempt to find all matching patterns in the line\n",
    "    m = re.findall(pattern, input())\n",
    "    [print(s[0]) for s in m if m]"
   ]
  },
  {
   "cell_type": "markdown",
   "metadata": {},
   "source": [
    "##### 1.10.11: *HTML Parser*"
   ]
  },
  {
   "cell_type": "code",
   "execution_count": null,
   "metadata": {},
   "outputs": [],
   "source": [
    "from html.parser import HTMLParser\n",
    "\n",
    "class MyHTMLParser(HTMLParser):\n",
    "\n",
    "    # Override the handle_starttag method to handle the start of an HTML tag.\n",
    "    def handle_starttag(self, tag, attrs):        \n",
    "        print ('Start :',tag)\n",
    "        # Iterate through the tag's attributes and print each attribute's name and value.\n",
    "        for ele in attrs:\n",
    "            print ('->',ele[0],'>',ele[1])\n",
    "            \n",
    "    # Override the handle_endtag method to handle the end of an HTML tag.\n",
    "    def handle_endtag(self, tag):\n",
    "        print ('End   :',tag)\n",
    "        \n",
    "    # Override the handle_startendtag method to handle self-closing HTML tags.\n",
    "    def handle_startendtag(self, tag, attrs):\n",
    "        print ('Empty :',tag)\n",
    "        # Iterate through the tag's attributes and print each attribute's name and value.\n",
    "        for ele in attrs:\n",
    "            print ('->',ele[0],'>',ele[1])\n",
    "            \n",
    "MyParser = MyHTMLParser()\n",
    "# Read and join the HTML content from multiple lines and feed it to the HTML parser. The parser processes the concatenated content.\n",
    "MyParser.feed(''.join([input().strip() for _ in range(int(input()))]))"
   ]
  },
  {
   "cell_type": "markdown",
   "metadata": {},
   "source": [
    "##### 1.10.12: *HTML Parser - Part 2*"
   ]
  },
  {
   "cell_type": "code",
   "execution_count": null,
   "metadata": {},
   "outputs": [],
   "source": [
    "from html.parser import HTMLParser\n",
    "\n",
    "# HTMLParser class\n",
    "class MyHTMLParser(HTMLParser):\n",
    "        def handle_comment(self, data):\n",
    "                # Check if theres multiple lines in data, if Yes it's multi-line comment, else single-line comment\n",
    "                if '\\n' in data:\n",
    "                        print('>>> Multi-line Comment')\n",
    "                else:\n",
    "                        print('>>> Single-line Comment')\n",
    "\n",
    "                # Prints comment data\n",
    "                print(data)\n",
    "\n",
    "        # Checks length of data is > 0, if yes prints data\n",
    "        def handle_data(self, data):\n",
    "                #print(data.rstrip())\n",
    "                if len(data.strip()) > 0:\n",
    "                        # Prints DATA tag and prints data after removing leading and trailing spaces\n",
    "                        print(\">>> Data\")\n",
    "                        print(data)\n",
    "\n",
    "\n",
    "# Read input from user\n",
    "html = \"\"       \n",
    "for i in range(int(input())):\n",
    "        html += input().rstrip()\n",
    "        html += '\\n'\n",
    "\n",
    "parser = MyHTMLParser()\n",
    "parser.feed(html)\n",
    "parser.close()"
   ]
  },
  {
   "cell_type": "markdown",
   "metadata": {},
   "source": [
    "##### 1.10.13: *Detect HTML Tags, Attributes and Attribute Values*"
   ]
  },
  {
   "cell_type": "code",
   "execution_count": null,
   "metadata": {},
   "outputs": [],
   "source": [
    "from html.parser import HTMLParser\n",
    "import re\n",
    "\n",
    "class myHTML(HTMLParser):\n",
    "    # Override the handle_starttag method to handle the start of an HTML tag.\n",
    "    def handle_starttag(self, tag, attr):\n",
    "        print(tag)\n",
    "\n",
    "        # Iterate through the tag's attributes and print each attribute's name and value.\n",
    "        for x in attr:\n",
    "            print(\"->\", x[0], \">\", x[1])\n",
    "\n",
    "    # Override the handle_startendtag method to handle self-closing HTML tags.\n",
    "    def handle_startendtag(self, tag, attr):\n",
    "        print(tag)\n",
    "        # Iterate through the tag's attributes and print each attribute's name and value.\n",
    "        for x in attr:\n",
    "            print(\"->\", x[0], \">\", x[1])\n",
    "    \n",
    "N=int(input())\n",
    "html_text=\"\"\n",
    "\n",
    "# Read and concatenate 'N' lines of HTML content into 'html_text'.\n",
    "for _ in range(N):\n",
    "    html_text+=input()+\"\\n\"\n",
    "\n",
    "# Create an instance of the 'myHTML' class for parsing.\n",
    "parser=myHTML()\n",
    "\n",
    "# Use a regular expression to remove HTML comments from 'html_text'.\n",
    "html_text=re.sub(r\"<!--.-->\", \"\", html_text)\n",
    "\n",
    "# Feed the processed 'html_text' to the HTML parser for parsing and printing.\n",
    "parser.feed(html_text)"
   ]
  },
  {
   "cell_type": "markdown",
   "metadata": {},
   "source": [
    "##### 1.10.14: *Validating UID*"
   ]
  },
  {
   "cell_type": "code",
   "execution_count": null,
   "metadata": {},
   "outputs": [],
   "source": [
    "# Import the 're' module for regular expressions.\n",
    "\n",
    "import re\n",
    "\n",
    "# Read an integer 't' from the user to determine the number of test cases.\n",
    "t = int(input())\n",
    "\n",
    "# Define a regular expression 'regex' to match strings with a length of 10 containing alphanumeric characters.\n",
    "regex = r'[a-zA-Z0-9]{10}'\n",
    "\n",
    "# Loop through 't' test cases.\n",
    "for i in range(t):\n",
    "    # Initialize an empty list 'c' to store unique characters in the input.\n",
    "    c = []\n",
    "\n",
    "    # Read the 'uid' (user ID) from the user for the current test case.\n",
    "    uid = input()\n",
    "\n",
    "    # Initialize a boolean 'valid' as 'True' to track the validity of the 'uid'.\n",
    "    valid = True\n",
    "\n",
    "    # Initialize a counter 'isNum' to count the number of digits in the 'uid'.\n",
    "    isNum = 0\n",
    "\n",
    "    # Check if the 'uid' has a length of 10 characters.\n",
    "    if len(uid) == 10:\n",
    "        # Use the 're.match' function to check if the 'uid' matches the regular expression 'regex'.\n",
    "        match = bool(re.match(regex, uid))\n",
    "\n",
    "        # If there is a match:\n",
    "        if match:\n",
    "            # Loop through each character 'j' in the 'uid'.\n",
    "            for j in uid:\n",
    "                # Check if the character 'j' is not in the 'c' list (it's unique).\n",
    "                if j not in c:\n",
    "                    # Add the character 'j' to the 'c' list.\n",
    "                    c.append(j)\n",
    "\n",
    "                    # If the character 'j' is a digit, increment 'isNum'.\n",
    "                    if j.isdigit():\n",
    "                        isNum += 1\n",
    "                else:\n",
    "                    # If the character 'j' is already in the 'c' list, set 'valid' to 'False' and break the loop.\n",
    "                    valid = False\n",
    "                    break\n",
    "        else:\n",
    "            # If there is no match, set 'valid' to 'False'.\n",
    "            valid = False\n",
    "    else:\n",
    "        # If the 'uid' does not have a length of 10, set 'valid' to 'False'.\n",
    "        valid = False\n",
    "\n",
    "    # Check if the number of digits in the 'uid' is less than 3, and if so, set 'valid' to 'False'.\n",
    "    if isNum < 3:\n",
    "        valid = False\n",
    "\n",
    "    # Print 'Valid' if 'valid' is 'True', or 'Invalid' if 'valid' is 'False'.\n",
    "    if valid:\n",
    "        print('Valid')\n",
    "    else:\n",
    "        print('Invalid')"
   ]
  },
  {
   "cell_type": "markdown",
   "metadata": {},
   "source": [
    "##### 1.10.15: *Validating Credit Card Numbers*"
   ]
  },
  {
   "cell_type": "code",
   "execution_count": null,
   "metadata": {},
   "outputs": [],
   "source": [
    "import re\n",
    "\n",
    "# Read number of cases\n",
    "n = int(input())\n",
    "\n",
    "# Regex to check card starts with 4, 5 or 6, has 16 numbers and may have 3 dashes\n",
    "regex = r'^[456]\\d{3}-?\\d{4}-?\\d{4}-?\\d{4}$'\n",
    "\n",
    "for i in range(n):\n",
    "        card = input()\n",
    "\n",
    "        # Check if card matches regex\n",
    "        resp = bool(re.match(regex, card))\n",
    "\n",
    "        # Counter to check if there are 4 or more repeated numbers\n",
    "        c = 0\n",
    "\n",
    "        # Temp chars\n",
    "        temp = ''\n",
    "        new_temp = ''\n",
    "\n",
    "        # Iterate card number\n",
    "        for i in range(len(card)):\n",
    "\n",
    "                # If first char, set temp and counter\n",
    "                if i == 0:\n",
    "                        temp = card[i]\n",
    "                        c += 1\n",
    "                else:\n",
    "\n",
    "                        # Set new_temp to current char and do nothing if char is '-'\n",
    "                        new_temp = card[i]\n",
    "                        if card[i] == '-':\n",
    "                                continue\n",
    "\n",
    "                        # If new_temp == temp, increment counter\n",
    "                        elif new_temp == temp:\n",
    "                                c += 1\n",
    "                                temp = new_temp\n",
    "                        # Else new digit, reset counter\n",
    "                        else:\n",
    "                                c = 1\n",
    "                                temp = new_temp\n",
    "\n",
    "                        # If counter >= 4, set resp = False and break\n",
    "                        if c >= 4:\n",
    "                                resp = False\n",
    "                                break\n",
    "\n",
    "        # Print Valid or Invalid\n",
    "        if resp:\n",
    "                print('Valid')\n",
    "        else:\n",
    "                print('Invalid')"
   ]
  },
  {
   "cell_type": "markdown",
   "metadata": {},
   "source": [
    "##### 1.10.16: *Validating Postal Codes*"
   ]
  },
  {
   "cell_type": "code",
   "execution_count": null,
   "metadata": {},
   "outputs": [],
   "source": [
    "# --- Given partially by HackerRank\n",
    "egex_integer_in_range = r\"^[1-9]\\d{5}$\"\t# Do not delete 'r'.\n",
    "regex_alternating_repetitive_digit_pair = r\"(\\d)(?=\\d\\1)\"\t# Do not delete 'r'.\n",
    "\n",
    "# --- Given and locked by HackerRank\n",
    "import re\n",
    "P = input()\n",
    "\n",
    "print (bool(re.match(regex_integer_in_range, P)) \n",
    "and len(re.findall(regex_alternating_repetitive_digit_pair, P)) < 2)"
   ]
  },
  {
   "cell_type": "markdown",
   "metadata": {},
   "source": [
    "##### 1.10.17: *Matrix Script*"
   ]
  },
  {
   "cell_type": "code",
   "execution_count": null,
   "metadata": {},
   "outputs": [],
   "source": [
    "import math\n",
    "import os\n",
    "import random\n",
    "import re\n",
    "import sys\n",
    "\n",
    "# Read the first line of input, split it, and assign the values to 'n' and 'm'.\n",
    "first_multiple_input = input().rstrip().split()\n",
    "n = int(first_multiple_input[0])\n",
    "m = int(first_multiple_input[1])\n",
    "\n",
    "matrix = []\n",
    "\n",
    "# Read 'n' lines of input and append them to the 'matrix' list.\n",
    "for _ in range(n):\n",
    "    matrix_item = input()\n",
    "    matrix.append(matrix_item)\n",
    "s=\"\"\n",
    "\n",
    "# Iterate over each column in the 'matrix' (transposing it).\n",
    "for i in range(m):\n",
    "    for j in range(n):\n",
    "            # Append the character from the 'matrix' at column 'i' and row 'j' to 's'.\n",
    "        s+=matrix[j][i]\n",
    "\n",
    "# Define a regular expression pattern 'pattern' to match specific characters between alphanumeric characters.\n",
    "pattern=r\"(?<=[a-zA-Z0-9])[\\s!@#$%&]+(?=[a-zA-Z0-9])\"\n",
    "\n",
    "# Use the 're.sub' function to substitute matches of 'pattern' in 's' with a space.\n",
    "s=re.sub(pattern, \" \", s)\n",
    "print(s)"
   ]
  },
  {
   "cell_type": "markdown",
   "metadata": {},
   "source": [
    "### **11. XML *(all – total: 2 - max points: 40)***"
   ]
  },
  {
   "cell_type": "markdown",
   "metadata": {},
   "source": [
    "##### 1.11.1: *XML 1 - Find the Score*"
   ]
  },
  {
   "cell_type": "code",
   "execution_count": null,
   "metadata": {},
   "outputs": [],
   "source": [
    "# --- Given and locked by HackerRank\n",
    "import sys\n",
    "import xml.etree.ElementTree as etree\n",
    "# ---\n",
    "\n",
    "def get_attr_number(node):\n",
    "    # Return the sum of the number of attributes for all elements in the XML tree.\n",
    "    return sum(len(element.attrib) for element in node.iter())\n",
    "\n",
    "# --- Given and locked by HackerRank\n",
    "if __name__ == '__main__':\n",
    "\n",
    "    # Read a line from the standard input and discard it.\n",
    "    sys.stdin.readline()\n",
    "    # Read the XML data from the standard input and store it in the 'xml' variable.\n",
    "    xml = sys.stdin.read()\n",
    "    # Parse the XML data into an XML tree and create an 'ElementTree' object.\n",
    "    tree = etree.ElementTree(etree.fromstring(xml))\n",
    "    # Get the root element of the XML tree.\n",
    "    root = tree.getroot()\n",
    "    # Print the result of the 'get_attr_number' function applied to the root element.\n",
    "    print(get_attr_number(root))"
   ]
  },
  {
   "cell_type": "markdown",
   "metadata": {},
   "source": [
    "##### 1.11.2: *XML2 - Find the Maximum Depth*"
   ]
  },
  {
   "cell_type": "code",
   "execution_count": null,
   "metadata": {},
   "outputs": [],
   "source": [
    "# --- Given and locked by HackerRank\n",
    "import xml.etree.ElementTree as etree\n",
    "# ---\n",
    "\n",
    "maxdepth = 0\n",
    "# Define a recursive function 'depth' to calculate the depth of elements in the XML tree.\n",
    "def depth(elem, level):\n",
    "    # Access the global 'maxdepth' variable.\n",
    "    global maxdepth\n",
    "    level += 1\n",
    "    # Update 'maxdepth' if the current 'level' is greater than the current maximum.\n",
    "    if level > maxdepth:\n",
    "        maxdepth = level\n",
    "    # Recursively iterate through the child elements of the current element.\n",
    "    for child in elem:\n",
    "        depth(child, level)\n",
    "\n",
    "# --- Given and locked by HackerRank\n",
    "if __name__ == '__main__':\n",
    "    n = int(input())\n",
    "    xml = \"\"\n",
    "    for i in range(n):\n",
    "        xml =  xml + input() + \"\\n\"\n",
    "    tree = etree.ElementTree(etree.fromstring(xml))\n",
    "    depth(tree.getroot(), -1)\n",
    "    print(maxdepth)"
   ]
  },
  {
   "cell_type": "markdown",
   "metadata": {},
   "source": [
    "### **12. Closures and Decorations *(all – total: 2 - max points: 60)***"
   ]
  },
  {
   "cell_type": "markdown",
   "metadata": {},
   "source": [
    "##### 1.12.1: *Standardize Mobile Number Using Decorators*"
   ]
  },
  {
   "cell_type": "code",
   "execution_count": null,
   "metadata": {},
   "outputs": [],
   "source": [
    "# --- Given partially by HackerRank\n",
    "def wrapper(f):\n",
    "    def fun(l):\n",
    "        # Initialize an empty list 'formatted' to store the formatted phone numbers.\n",
    "        formatted = []\n",
    "        # Iterate through the elements in the input list 'l'.\n",
    "        for number in l:\n",
    "            # Format each phone number by adding '+91 ' and dividing it into the country code,\n",
    "            # operator code, and local number, and append it to the 'formatted' list.\n",
    "            formatted.append(f\"+91 {number[-10:-5]} {number[-5:]}\")\n",
    "        # Call the original function 'f' with the 'formatted' list as an argument.\n",
    "        f(formatted)\n",
    "    return fun\n",
    "\n",
    "# --- Given and locked by HackerRank\n",
    "@wrapper\n",
    "def sort_phone(l):\n",
    "    print(*sorted(l), sep='\\n')\n",
    "\n",
    "if __name__ == '__main__':\n",
    "    l = [input() for _ in range(int(input()))]\n",
    "    sort_phone(l)"
   ]
  },
  {
   "cell_type": "markdown",
   "metadata": {},
   "source": [
    "##### 1.12.2: *Decorators 2 - Name Directory*"
   ]
  },
  {
   "cell_type": "code",
   "execution_count": null,
   "metadata": {},
   "outputs": [],
   "source": [
    "import operator\n",
    "\n",
    "# Define a function decorator 'person_lister' that takes another function 'f' as an argument.\n",
    "def person_lister(f):\n",
    "    # Define a nested function 'inner' that takes a list of 'people' as an argument.\n",
    "    def inner(people):\n",
    "        # Sort the 'people' list based on the integer value of the third element (index 2) in each person's data.\n",
    "        # Then, apply the function 'f' to each person and create a list of the results.\n",
    "        return [f(person) for person in sorted(people, key=lambda x: int(x[2]))]\n",
    "    # Return the 'inner' function as the result of the 'person_lister' decorator.\n",
    "    return inner\n",
    "\n",
    "# --- Given and locked by HackerRank\n",
    "@person_lister\n",
    "def name_format(person):\n",
    "    # Create a formatted name for each person based on their gender and full name.\n",
    "    return (\"Mr. \" if person[3] == \"M\" else \"Ms. \") + person[0] + \" \" + person[1]\n",
    "\n",
    "if __name__ == '__main__':\n",
    "    people = [input().split() for i in range(int(input()))]\n",
    "    # Call the 'name_format' function, which is decorated by 'person_lister', to format and print the names of people.\n",
    "    print(*name_format(people), sep='\\n')"
   ]
  },
  {
   "cell_type": "markdown",
   "metadata": {},
   "source": [
    "### **13. Numpy *(all – total: 15 - max points: 300)***"
   ]
  },
  {
   "cell_type": "markdown",
   "metadata": {},
   "source": [
    "##### 1.13.1: *Arrays*"
   ]
  },
  {
   "cell_type": "code",
   "execution_count": null,
   "metadata": {},
   "outputs": [],
   "source": [
    "import numpy\n",
    "\n",
    "def arrays(arr):\n",
    "    # Transform each string in arr i in integer (with function 'eval()')\n",
    "    res = [eval(i) for i in arr]\n",
    "    # Create a 'NumPy' array from the 'res' list, specifying the data type as float.\n",
    "    a = numpy.array(res, float)\n",
    "    # Reverse the 'NumPy' array.\n",
    "    rev = numpy.flip(a)\n",
    "    return rev\n",
    "\n",
    "# --- Given and locked by HackerRank\n",
    "arr = input().strip().split(' ')\n",
    "result = arrays(arr)\n",
    "print(result)"
   ]
  },
  {
   "cell_type": "markdown",
   "metadata": {},
   "source": [
    "##### 1.13.2: *Shape and Reshape*"
   ]
  },
  {
   "cell_type": "code",
   "execution_count": null,
   "metadata": {},
   "outputs": [],
   "source": [
    "import numpy\n",
    "\n",
    "inp1 = list(map(int, input().split()))\n",
    "# Create a NumPy array 'my_array' from the elements in 'inp1'.\n",
    "my_array = numpy.array(inp1)\n",
    "\n",
    "# Use the 'numpy.reshape' function to reshape 'my_array' into a 3x3 matrix, and then print it.\n",
    "print(numpy.reshape(my_array,(3,3)))"
   ]
  },
  {
   "cell_type": "markdown",
   "metadata": {},
   "source": [
    "##### 1.13.3: *Transpose and Flatten*"
   ]
  },
  {
   "cell_type": "code",
   "execution_count": null,
   "metadata": {},
   "outputs": [],
   "source": [
    "import numpy\n",
    "\n",
    "N, M = map(int, input().split())\n",
    "summ=[]\n",
    "\n",
    "for i in range(0, N):\n",
    "    inp1 = list(map(int, input().split()))\n",
    "    summ += inp1\n",
    "\n",
    "# Create a NumPy array 'my_array' containing the elements from the 'sum' list.\n",
    "my_array = numpy.array([summ])\n",
    "# Reshape 'my_array' into a 2D array with dimensions 'N'x'M'.\n",
    "qq = numpy.reshape(my_array,(N,M))\n",
    "\n",
    "# Print the transpose of 'qq' (swapping rows and columns).\n",
    "print(numpy.transpose(qq))\n",
    "# Print the flattened version of 'qq' (all elements in a 1D array).\n",
    "print(qq.flatten())"
   ]
  },
  {
   "cell_type": "markdown",
   "metadata": {},
   "source": [
    "##### 1.13.4: *Concatenate*"
   ]
  },
  {
   "cell_type": "code",
   "execution_count": null,
   "metadata": {},
   "outputs": [],
   "source": [
    "import numpy\n",
    "\n",
    "N, M, P = map(int, input().split())\n",
    "summ1 = []\n",
    "summ2 = []\n",
    "\n",
    "for i in range(N):\n",
    "    inp1 = list(map(int, input().split()))\n",
    "    summ1 += inp1\n",
    "    \n",
    "my_array1 = numpy.array(summ1)\n",
    "\n",
    "\n",
    "for i in range(M):\n",
    "    inp2 = list(map(int, input().split()))\n",
    "    summ2 += inp2\n",
    "    \n",
    "my_array2 = numpy.array(summ2)\n",
    "\n",
    "# Concatenate 'my_array1' and 'my_array2' into a single NumPy array 'qq'.\n",
    "qq = numpy.concatenate((my_array1, my_array2))\n",
    "# Reshape 'qq' into a 2D array with dimensions 'N+M'x'P'.\n",
    "qt = numpy.reshape(qq, (N+M,P))\n",
    "print(qt)"
   ]
  },
  {
   "cell_type": "markdown",
   "metadata": {},
   "source": [
    "##### 1.13.5: *Zeros and Ones*"
   ]
  },
  {
   "cell_type": "code",
   "execution_count": null,
   "metadata": {},
   "outputs": [],
   "source": [
    "import numpy\n",
    "\n",
    "nmp = list(map(int, input().split()))\n",
    "# Initialize empty lists 'summ1' and 'summ2'.\n",
    "summ1 = []\n",
    "summ2 = []\n",
    "\n",
    "# Create a NumPy array 'aa' filled with zeros, using the dimensions specified in 'nmp'.\n",
    "aa = numpy.zeros((nmp), dtype= int)\n",
    "# Create a NumPy array 'bb' filled with ones, using the dimensions specified in 'nmp'.\n",
    "bb = numpy.ones((nmp), dtype= int)\n",
    "    \n",
    "print(aa)\n",
    "print(bb)"
   ]
  },
  {
   "cell_type": "markdown",
   "metadata": {},
   "source": [
    "##### 1.13.6: *Eye and Identity*"
   ]
  },
  {
   "cell_type": "code",
   "execution_count": null,
   "metadata": {},
   "outputs": [],
   "source": [
    "import numpy\n",
    "\n",
    "# Set print options for NumPy to use a legacy format (1.13).\n",
    "numpy.set_printoptions(legacy='1.13')\n",
    "\n",
    "# Read two space-separated integers 'N' and 'M' from the user.\n",
    "N, M = map(int, input().split())\n",
    "\n",
    "print(numpy.eye(N,M))"
   ]
  },
  {
   "cell_type": "markdown",
   "metadata": {},
   "source": [
    "##### 1.13.7: *Array Mathematics*"
   ]
  },
  {
   "cell_type": "code",
   "execution_count": null,
   "metadata": {},
   "outputs": [],
   "source": [
    "import numpy\n",
    "\n",
    "N, M = map(int, input().split())\n",
    "summ1 = []\n",
    "summ2 = []\n",
    "\n",
    "# Iterate 'N' times, convert the space-separated values into a list, and accumulate them into 'summ1' (for 'a').\n",
    "for i in range(N):\n",
    "    a = [list(map(int, input().split()))]\n",
    "    summ1 += a\n",
    "\n",
    "# Again... for 'b'.\n",
    "for i in range(N):   \n",
    "    b = [list(map(int, input().split()))]\n",
    "    summ2 += b\n",
    "\n",
    "# Create NumPy arrays 'aa' and 'bb' from 'summ1' and 'summ2', specifying the data type as int.\n",
    "aa = numpy.array(summ1, int)\n",
    "bb = numpy.array(summ2, int)\n",
    "\n",
    "# Perform various mathematical operations and print the results.\n",
    "# Addition, subtraction, multiplication, floor division, modulo, and exponentiation.\n",
    "print(aa + bb)\n",
    "print(aa - bb)\n",
    "print(aa * bb)\n",
    "print(numpy.floor_divide(aa, bb))\n",
    "print(aa % bb)\n",
    "print(aa ** bb)"
   ]
  },
  {
   "cell_type": "markdown",
   "metadata": {},
   "source": [
    "##### 1.13.8: *Floor, Ceil and Rint*"
   ]
  },
  {
   "cell_type": "code",
   "execution_count": null,
   "metadata": {},
   "outputs": [],
   "source": [
    "import numpy\n",
    "numpy.set_printoptions(legacy='1.13')\n",
    "\n",
    "my_array = numpy.array(list(map(float,input().split())))\n",
    "\n",
    "# Apply mathematical operations and print the results for 'my_array'.\n",
    "# Floor, ceiling, and rounding (nearest integer) operations.\n",
    "print(numpy.floor(my_array))  # Rounds down to the nearest integer.\n",
    "print(numpy.ceil(my_array))   # Rounds up to the nearest integer.\n",
    "print(numpy.rint(my_array))   # Rounds to the nearest integer."
   ]
  },
  {
   "cell_type": "markdown",
   "metadata": {},
   "source": [
    "##### 1.13.9: *Sum and Prod*"
   ]
  },
  {
   "cell_type": "code",
   "execution_count": null,
   "metadata": {},
   "outputs": [],
   "source": [
    "import numpy\n",
    "\n",
    "N, M = map(int, input().split())\n",
    "\n",
    "# Create a NumPy array 'my_array' by reading 'N' lines of input data and converting the values to integers.\n",
    "my_array = numpy.array([list(map(int,input().split())) for i in range(N)])\n",
    "\n",
    "# Calculate the sum of elements along axis 0 (columns) of 'my_array' and store it in 'qq'.\n",
    "qq = numpy.sum(my_array, axis=0)\n",
    "\n",
    "# Calculate the product of all elements in 'qq' and print the result.\n",
    "print(numpy.prod(qq))"
   ]
  },
  {
   "cell_type": "markdown",
   "metadata": {},
   "source": [
    "##### 1.13.10: *Min and Max*"
   ]
  },
  {
   "cell_type": "code",
   "execution_count": null,
   "metadata": {},
   "outputs": [],
   "source": [
    "import numpy\n",
    "\n",
    "N, M = map(int, input().split())\n",
    "\n",
    "# Create a NumPy array 'my_array' by reading 'N' lines of input data, converting the values to integers, and storing them in arrays.\n",
    "my_array = numpy.array([list(map(int,input().split())) for i in range(N)])\n",
    "\n",
    "# Calculate the minimum value along axis 1 (rows) of 'my_array' and store it in 'qq'.\n",
    "qq = numpy.min(my_array, axis=1)\n",
    "\n",
    "# Calculate the maximum value of 'qq' and print the result.\n",
    "print(numpy.max(qq))"
   ]
  },
  {
   "cell_type": "markdown",
   "metadata": {},
   "source": [
    "##### 1.13.11: *Mean, Var, and Std*"
   ]
  },
  {
   "cell_type": "code",
   "execution_count": null,
   "metadata": {},
   "outputs": [],
   "source": [
    "import numpy\n",
    "\n",
    "N, M = map(int, input().split())\n",
    "\n",
    "# Create a NumPy array 'my_array' by reading 'N' lines of input data, converting the values to integers, and storing them in arrays.\n",
    "my_array = numpy.array([list(map(int,input().split())) for i in range(N)])\n",
    "\n",
    "# Print the mean along axis 1 (row-wise) of 'my_array'.\n",
    "print(numpy.mean(my_array, axis=1))\n",
    "# Print the variance along axis 0 (column-wise) of 'my_array'.\n",
    "print(numpy.var(my_array, axis=0))\n",
    "# Print the standard deviation of 'my_array' for all elements.\n",
    "# The 'round' function is used to specify the number of decimal places in the result.\n",
    "print(round(numpy.std(my_array, axis=None),11))\n"
   ]
  },
  {
   "cell_type": "markdown",
   "metadata": {},
   "source": [
    "##### 1.13.12: *Dot and Cross*"
   ]
  },
  {
   "cell_type": "code",
   "execution_count": null,
   "metadata": {},
   "outputs": [],
   "source": [
    "import numpy\n",
    "\n",
    "N = int(input())\n",
    "\n",
    "array_A = numpy.array([list(map(int,input().split())) for i in range(N)])\n",
    "array_B = numpy.array([list(map(int,input().split())) for i in range(N)])\n",
    "\n",
    "# Calculate and print the dot product of 'array_A' and 'array_B'.\n",
    "print(numpy.dot(array_A,array_B))"
   ]
  },
  {
   "cell_type": "markdown",
   "metadata": {},
   "source": [
    "##### 1.13.13: *Inner and Outer*"
   ]
  },
  {
   "cell_type": "code",
   "execution_count": null,
   "metadata": {},
   "outputs": [],
   "source": [
    "import numpy\n",
    "\n",
    "array_A = numpy.array(list(map(int,input().split())))\n",
    "array_B = numpy.array(list(map(int,input().split())))\n",
    "\n",
    "# Calculate and print the inner product of 'array_A' and 'array_B'.\n",
    "print(numpy.inner(array_A, array_B))\n",
    "# Calculate and print the outer product of 'array_A' and 'array_B'.\n",
    "print(numpy.outer(array_A, array_B))"
   ]
  },
  {
   "cell_type": "markdown",
   "metadata": {},
   "source": [
    "##### 1.13.14: *Polynomials*"
   ]
  },
  {
   "cell_type": "code",
   "execution_count": null,
   "metadata": {},
   "outputs": [],
   "source": [
    "from numpy import polyval\n",
    "\n",
    "# Read a list of floating-point coefficients 'P' from the user.\n",
    "P = list(map(float, input().split()))\n",
    "x = int(input())\n",
    "\n",
    "# Calculate and print the result of evaluating the polynomial defined by the coefficients 'P' at the value 'x' using the 'polyval' function.\n",
    "print(polyval(P, x))"
   ]
  },
  {
   "cell_type": "markdown",
   "metadata": {},
   "source": [
    "##### 1.13.15: *Linear Algebra*"
   ]
  },
  {
   "cell_type": "code",
   "execution_count": null,
   "metadata": {},
   "outputs": [],
   "source": [
    "from numpy.linalg import det\n",
    "\n",
    "N = int(input())\n",
    "\n",
    "a = [list(map(float, input().split())) for i in range(N)]\n",
    "\n",
    "# Calculate and print the determinant of the matrix 'a', rounded to 2 decimal places.\n",
    "print(round(det(a), 2))"
   ]
  },
  {
   "cell_type": "markdown",
   "metadata": {},
   "source": [
    "## **#Problem 2. Problems on Python.**"
   ]
  },
  {
   "cell_type": "markdown",
   "metadata": {},
   "source": [
    "##### 2.1: *Birthday Cake Candles*"
   ]
  },
  {
   "cell_type": "code",
   "execution_count": null,
   "metadata": {},
   "outputs": [],
   "source": [
    "import math\n",
    "import os\n",
    "import random\n",
    "import re\n",
    "import sys\n",
    "\n",
    "def birthdayCakeCandles(candles):\n",
    "    total=0\n",
    "    # Find the maximum height 'b' among the candles.\n",
    "    b = max(candles)\n",
    "    # Iterate through the candles and count the ones with the same height as 'b'.\n",
    "    for i in candles:\n",
    "        if b == i:\n",
    "            total = 1 + total\n",
    "    # Return the total count (an integer) of candles with maximum height.\n",
    "    return total\n",
    "        \n",
    "\n",
    "if __name__ == '__main__':\n",
    "    fptr = sys.stdout\n",
    "    candles_count = int(input().strip())\n",
    "    candles = list(map(int, input().rstrip().split()))\n",
    "    result = birthdayCakeCandles(candles)\n",
    "    fptr.write(str(result) + '\\n')\n",
    "    fptr.close()"
   ]
  },
  {
   "cell_type": "markdown",
   "metadata": {},
   "source": [
    "##### 2.2: *Number Line Jumps*"
   ]
  },
  {
   "cell_type": "code",
   "execution_count": null,
   "metadata": {},
   "outputs": [],
   "source": [
    "import math\n",
    "import os\n",
    "import random\n",
    "import re\n",
    "import sys\n",
    "\n",
    "def kangaroo(x1, v1, x2, v2):\n",
    "    # Define string constants for \"NO\" and \"YES\" outcomes.\n",
    "    n = \"NO\"\n",
    "    y = \"YES\"\n",
    "    # Calculate the number of iterations based on the starting positions and jump distances.\n",
    "    iterations = v1*x2\n",
    "    # Check if the kangaroo with a lower starting position also has a lower jump distance.\n",
    "    if x1 <= x2 and v1<= v2:\n",
    "            return n\n",
    "    # Iterate through the number of iterations to simulate the kangaroos' jumps.\n",
    "    for i in range(iterations):\n",
    "        # ... if the kangaroos' positions match, they meet, and \"YES\" is returned.\n",
    "        if x1 == x2:\n",
    "            return y\n",
    "        x1 += v1\n",
    "        x2 += v2\n",
    "    # ... else if they never meet within the specified number of iterations, return \"NO\"\n",
    "    return n\n",
    "\n",
    "if __name__ == '__main__':\n",
    "    fptr = sys.stdout\n",
    "    first_multiple_input = input().rstrip().split()\n",
    "    x1 = int(first_multiple_input[0])\n",
    "    v1 = int(first_multiple_input[1])\n",
    "    x2 = int(first_multiple_input[2])\n",
    "    v2 = int(first_multiple_input[3])\n",
    "    result = kangaroo(x1, v1, x2, v2)\n",
    "    fptr.write(result + '\\n')\n",
    "    fptr.close()"
   ]
  },
  {
   "cell_type": "markdown",
   "metadata": {},
   "source": [
    "##### 2.3: *Viral Advertising*"
   ]
  },
  {
   "cell_type": "code",
   "execution_count": null,
   "metadata": {},
   "outputs": [],
   "source": [
    "import math\n",
    "import os\n",
    "import random\n",
    "import re\n",
    "import sys\n",
    "\n",
    "def viralAdvertising(n):\n",
    "    # Initialize variables 'k' and 'l' to track daily likes and cumulative likes (at the beginning).\n",
    "    k = 2\n",
    "    l = 2\n",
    "    # Iterate through the specified number of days (n-1 days since the first day is already counted).\n",
    "    for i in range(n-1):\n",
    "        # Calculate the number of likes generated on the current day and add it to the cumulative likes.\n",
    "        k = k * 3 // 2  # The likes generated are half of the people who saw the advertisement.\n",
    "        l += k # Add the daily likes to the cumulative likes.\n",
    "    return l\n",
    "\n",
    "if __name__ == '__main__':\n",
    "    fptr = sys.stdout\n",
    "    n = int(input().strip())\n",
    "    result = viralAdvertising(n)\n",
    "    fptr.write(str(result) + '\\n')\n",
    "    fptr.close()"
   ]
  },
  {
   "cell_type": "markdown",
   "metadata": {},
   "source": [
    "##### 2.4: *Recursive Digit Sum*"
   ]
  },
  {
   "cell_type": "code",
   "execution_count": null,
   "metadata": {},
   "outputs": [],
   "source": [
    "#Credit to https://www.hackerrank.com/challenges/super-digit/forum\n",
    "\n",
    "import math\n",
    "import os\n",
    "import random\n",
    "import re\n",
    "import sys\n",
    "\n",
    "# Define a recursive function '_super_digit' to calculate the super digit of a number.\n",
    "def _super_digit(n):\n",
    "    # Base case: If the number 'n' has only one digit, return it.\n",
    "    if len(str(n)) == 1:\n",
    "        return n\n",
    "    # Recursive case: Sum the digits of 'n' and call '_super_digit' on the result.\n",
    "    return _super_digit(sum([int(c) for c in str(n)]))\n",
    "\n",
    "# Define the main function 'superDigit' to calculate the super digit of 'n' multiplied by 'k'.\n",
    "def superDigit(n, k):\n",
    "    # Calculate the initial super digit of 'n'.\n",
    "    initial_super_digit = _super_digit(n)\n",
    "    # Calculate the super digit of 'initial_super_digit' multiplied by 'k'.\n",
    "    return _super_digit(initial_super_digit * k)\n",
    "    \n",
    "if __name__ == '__main__':\n",
    "    fptr = sys.stdout\n",
    "    first_multiple_input = input().rstrip().split()\n",
    "    n = first_multiple_input[0]\n",
    "    k = int(first_multiple_input[1])\n",
    "    result = superDigit(n, k)\n",
    "    fptr.write(str(result) + '\\n')\n",
    "    fptr.close()\n"
   ]
  },
  {
   "cell_type": "markdown",
   "metadata": {},
   "source": [
    "##### 2.4: *Insertion Sort - Part 1*"
   ]
  },
  {
   "cell_type": "code",
   "execution_count": null,
   "metadata": {},
   "outputs": [],
   "source": [
    "# Credit to https://www.hackerrank.com/challenges/insertionsort1/forum\n",
    "\n",
    "import math\n",
    "import os\n",
    "import random\n",
    "import re\n",
    "import sys\n",
    "\n",
    "# Define a function 'insertionSort1' to perform the first step of insertion sort.\n",
    "def insertionSort1(n, arr):\n",
    "    # Get the value of the last element in the array.\n",
    "    value = arr[-1]\n",
    "    # Create a sorted version of the array.\n",
    "    sorted_arr = sorted(arr)\n",
    "    \n",
    "    # Iterate through the elements in reverse order, starting from the second-to-last element.\n",
    "    for i in arr[-2::-1]:\n",
    "        # If the array is already sorted, break the loop.\n",
    "        if arr == sorted_arr:\n",
    "            break\n",
    "        # If the current element is greater than the value, shift it to the right.\n",
    "        elif i > value:\n",
    "            arr[arr.index(i) + 1] = i\n",
    "        else:\n",
    "            # If the current element is less than or equal to the value, insert the value to its right.\n",
    "            arr[arr.index(i) + 1] = value\n",
    "        # Print the current state of the array.\n",
    "        print(*arr)\n",
    "    else:\n",
    "        # If the loop completes without a 'break', and the array is not sorted, insert the value at the beginning.\n",
    "        if arr != sorted_arr: \n",
    "            arr[0] = value\n",
    "            print(*arr)\n",
    "\n",
    "if __name__ == '__main__':\n",
    "    n = int(input().strip())\n",
    "    arr = list(map(int, input().rstrip().split()))\n",
    "    insertionSort1(n, arr)\n"
   ]
  },
  {
   "cell_type": "markdown",
   "metadata": {},
   "source": [
    "##### 2.5: *Insertion Sort - Part 2*"
   ]
  },
  {
   "cell_type": "code",
   "execution_count": null,
   "metadata": {},
   "outputs": [],
   "source": [
    "import math\n",
    "import os\n",
    "import random\n",
    "import re\n",
    "import sys\n",
    "\n",
    "# Define a function 'insertionSort2' to perform the second step of insertion sort.\n",
    "def insertionSort2(n, arr):\n",
    "    # Iterate through the elements from the second element to the end.\n",
    "    for i in range(1, n):    \n",
    "        curr_ele = arr[i]\n",
    "        count = 0\n",
    "\n",
    "        # Check if the current element is smaller than the previous element.\n",
    "        if curr_ele < arr[i-1]:\n",
    "            # Iterate through the sorted portion of the array in reverse order.\n",
    "            for j in range(i, 0, -1):\n",
    "\n",
    "                # If the current element is smaller than the previous element, shift the previous element to the right.\n",
    "                if curr_ele < arr[j-1]:\n",
    "                    arr[j] = arr[j-1]\n",
    "                    arr[j-1] = curr_ele\n",
    "                else:\n",
    "                    break\n",
    "    \n",
    "        print(\" \".join(map(str, arr)))\n",
    "\n",
    "if __name__ == '__main__':\n",
    "    n = int(input().strip())\n",
    "    arr = list(map(int, input().rstrip().split()))\n",
    "    insertionSort2(n, arr)\n"
   ]
  },
  {
   "cell_type": "markdown",
   "metadata": {},
   "source": [
    "##### EXTRA 2.6: *Time Conversion*"
   ]
  },
  {
   "cell_type": "code",
   "execution_count": null,
   "metadata": {},
   "outputs": [],
   "source": [
    "import math\n",
    "import os\n",
    "import random\n",
    "import re\n",
    "import sys\n",
    "\n",
    "def timeConversion(s):\n",
    "    # Extract the AM/PM information from the input time string.\n",
    "    time_AMPM = s[-2:]\n",
    "    # Extract the hour part of the time string.\n",
    "    time_hour = s[:2]\n",
    "    # Extract the part between the hour and AM/PM information.\n",
    "    last_p = s[2:-2]\n",
    "    # Convert the hour part to an integer.\n",
    "    time_hour = int(time_hour)\n",
    "\n",
    "    if time_AMPM == 'PM':\n",
    "        # If it's PM, add 12 to the hour, except if it's 12 PM.\n",
    "        if time_hour != 12:\n",
    "            time_hour += 12\n",
    "            time_hour = str(time_hour)\n",
    "        s_mod = str(time_hour) + last_p\n",
    "        \n",
    "    elif time_AMPM == 'AM':\n",
    "        # If it's AM and the hour is 12, set it to 0.\n",
    "        if time_hour == 12:\n",
    "            time_hour = 0\n",
    "        # Add a leading '0' for single-digit hours.   \n",
    "        if time_hour < 10:\n",
    "            s_mod = '0' + str(time_hour) + last_p\n",
    "        else:\n",
    "            s_mod = str(time_hour) + last_p\n",
    "\n",
    "    # Return the converted time string in 24-hour format.\n",
    "    return s_mod\n",
    "    \n",
    "if __name__ == '__main__':\n",
    "    fptr = sys.stdout\n",
    "    s = input()\n",
    "    result = timeConversion(s)\n",
    "    fptr.write(result + '\\n')\n",
    "    fptr.close()"
   ]
  },
  {
   "cell_type": "markdown",
   "metadata": {},
   "source": [
    "##### EXTRA 2.7: *Grading Students*"
   ]
  },
  {
   "cell_type": "code",
   "execution_count": null,
   "metadata": {},
   "outputs": [],
   "source": [
    "import math\n",
    "import os\n",
    "import random\n",
    "import re\n",
    "import sys\n",
    "\n",
    "def gradingStudents(grades):\n",
    "    next_m = 0\n",
    "    diff = 0\n",
    "    opt_grade = 0\n",
    "    index = 0\n",
    "    for i in grades:\n",
    "        next_m = ((i // 5) + 1) * 5\n",
    "        diff = next_m - i\n",
    "        if diff < 3:\n",
    "            opt_grade = next_m\n",
    "        elif diff >= 3:\n",
    "            opt_grade = i\n",
    "\n",
    "        if opt_grade < 40:\n",
    "            opt_grade = i\n",
    "        \n",
    "        grades[index] = opt_grade\n",
    "        index += 1\n",
    "    return grades\n",
    "\n",
    "if __name__ == '__main__':\n",
    "    fptr = sys.stdout\n",
    "    grades_count = int(input().strip())\n",
    "    grades = []\n",
    "    for _ in range(grades_count):\n",
    "        grades_item = int(input().strip())\n",
    "        grades.append(grades_item)\n",
    "    result = gradingStudents(grades)\n",
    "    fptr.write('\\n'.join(map(str, result)))\n",
    "    fptr.write('\\n')\n",
    "    fptr.close()"
   ]
  }
 ],
 "metadata": {
  "colab": {
   "provenance": []
  },
  "kernelspec": {
   "display_name": "Python 3 (ipykernel)",
   "language": "python",
   "name": "python3"
  },
  "language_info": {
   "codemirror_mode": {
    "name": "ipython",
    "version": 3
   },
   "file_extension": ".py",
   "mimetype": "text/x-python",
   "name": "python",
   "nbconvert_exporter": "python",
   "pygments_lexer": "ipython3",
   "version": "3.11.4"
  },
  "vscode": {
   "interpreter": {
    "hash": "c0e40e7c7a66e87c69eaa7498d7778a1d8fa6b3e422091d0b3e8dafd8f730247"
   }
  }
 },
 "nbformat": 4,
 "nbformat_minor": 4
}
